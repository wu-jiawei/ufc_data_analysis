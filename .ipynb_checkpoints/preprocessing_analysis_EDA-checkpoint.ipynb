{
 "cells": [
  {
   "cell_type": "markdown",
   "metadata": {},
   "source": [
    "# 数据预处理\n"
   ]
  },
  {
   "cell_type": "code",
   "execution_count": 3,
   "metadata": {},
   "outputs": [],
   "source": [
    "import numpy as np\n",
    "import pandas as pd\n",
    "import matplotlib.pyplot as plt\n",
    "import seaborn as sns\n",
    "import warnings\n",
    "warnings.filterwarnings('ignore')\n",
    "%matplotlib inline"
   ]
  },
  {
   "cell_type": "code",
   "execution_count": 4,
   "metadata": {},
   "outputs": [],
   "source": [
    "# 读取数据\n",
    "base_path = './ufc_data/'\n",
    "fighters = pd.read_csv(base_path+'fighters.csv')\n",
    "fights = pd.read_csv(base_path+'fights.csv', sep=';')"
   ]
  },
  {
   "cell_type": "code",
   "execution_count": 5,
   "metadata": {},
   "outputs": [
    {
     "data": {
      "text/html": [
       "<div>\n",
       "<style scoped>\n",
       "    .dataframe tbody tr th:only-of-type {\n",
       "        vertical-align: middle;\n",
       "    }\n",
       "\n",
       "    .dataframe tbody tr th {\n",
       "        vertical-align: top;\n",
       "    }\n",
       "\n",
       "    .dataframe thead th {\n",
       "        text-align: right;\n",
       "    }\n",
       "</style>\n",
       "<table border=\"1\" class=\"dataframe\">\n",
       "  <thead>\n",
       "    <tr style=\"text-align: right;\">\n",
       "      <th></th>\n",
       "      <th>fighter_name</th>\n",
       "      <th>Height</th>\n",
       "      <th>Weight</th>\n",
       "      <th>Reach</th>\n",
       "      <th>Stance</th>\n",
       "      <th>DOB</th>\n",
       "    </tr>\n",
       "  </thead>\n",
       "  <tbody>\n",
       "    <tr>\n",
       "      <td>0</td>\n",
       "      <td>AJ Fonseca</td>\n",
       "      <td>5' 4\"</td>\n",
       "      <td>145 lbs.</td>\n",
       "      <td>NaN</td>\n",
       "      <td>NaN</td>\n",
       "      <td>NaN</td>\n",
       "    </tr>\n",
       "    <tr>\n",
       "      <td>1</td>\n",
       "      <td>AJ Matthews</td>\n",
       "      <td>5' 11\"</td>\n",
       "      <td>185 lbs.</td>\n",
       "      <td>NaN</td>\n",
       "      <td>NaN</td>\n",
       "      <td>NaN</td>\n",
       "    </tr>\n",
       "    <tr>\n",
       "      <td>2</td>\n",
       "      <td>AJ McKee</td>\n",
       "      <td>5' 10\"</td>\n",
       "      <td>145 lbs.</td>\n",
       "      <td>NaN</td>\n",
       "      <td>NaN</td>\n",
       "      <td>NaN</td>\n",
       "    </tr>\n",
       "    <tr>\n",
       "      <td>3</td>\n",
       "      <td>AJ Siscoe</td>\n",
       "      <td>5' 7\"</td>\n",
       "      <td>135 lbs.</td>\n",
       "      <td>NaN</td>\n",
       "      <td>NaN</td>\n",
       "      <td>NaN</td>\n",
       "    </tr>\n",
       "    <tr>\n",
       "      <td>4</td>\n",
       "      <td>Aalon Cruz</td>\n",
       "      <td>6' 0\"</td>\n",
       "      <td>145 lbs.</td>\n",
       "      <td>NaN</td>\n",
       "      <td>NaN</td>\n",
       "      <td>NaN</td>\n",
       "    </tr>\n",
       "  </tbody>\n",
       "</table>\n",
       "</div>"
      ],
      "text/plain": [
       "  fighter_name  Height    Weight Reach Stance  DOB\n",
       "0   AJ Fonseca   5' 4\"  145 lbs.   NaN    NaN  NaN\n",
       "1  AJ Matthews  5' 11\"  185 lbs.   NaN    NaN  NaN\n",
       "2     AJ McKee  5' 10\"  145 lbs.   NaN    NaN  NaN\n",
       "3    AJ Siscoe   5' 7\"  135 lbs.   NaN    NaN  NaN\n",
       "4   Aalon Cruz   6' 0\"  145 lbs.   NaN    NaN  NaN"
      ]
     },
     "execution_count": 5,
     "metadata": {},
     "output_type": "execute_result"
    }
   ],
   "source": [
    "fighters.head()"
   ]
  },
  {
   "cell_type": "markdown",
   "metadata": {},
   "source": [
    "## 列定义"
   ]
  },
  {
   "cell_type": "markdown",
   "metadata": {},
   "source": [
    "* fighter_name：选手名字\n",
    "* Height：选手身高\n",
    "* Weight: 选手体重\n",
    "* Reach: 选手臂展\n",
    "* Stance: 站姿\n",
    "* DOB: date of birth, 出生日期"
   ]
  },
  {
   "cell_type": "code",
   "execution_count": 6,
   "metadata": {},
   "outputs": [
    {
     "data": {
      "text/html": [
       "<div>\n",
       "<style scoped>\n",
       "    .dataframe tbody tr th:only-of-type {\n",
       "        vertical-align: middle;\n",
       "    }\n",
       "\n",
       "    .dataframe tbody tr th {\n",
       "        vertical-align: top;\n",
       "    }\n",
       "\n",
       "    .dataframe thead th {\n",
       "        text-align: right;\n",
       "    }\n",
       "</style>\n",
       "<table border=\"1\" class=\"dataframe\">\n",
       "  <thead>\n",
       "    <tr style=\"text-align: right;\">\n",
       "      <th></th>\n",
       "      <th>fighter_name</th>\n",
       "      <th>Height</th>\n",
       "      <th>Weight</th>\n",
       "      <th>Reach</th>\n",
       "      <th>Stance</th>\n",
       "      <th>DOB</th>\n",
       "    </tr>\n",
       "  </thead>\n",
       "  <tbody>\n",
       "    <tr>\n",
       "      <td>3308</td>\n",
       "      <td>Zelim Imadaev</td>\n",
       "      <td>6' 0\"</td>\n",
       "      <td>170 lbs.</td>\n",
       "      <td>76\"</td>\n",
       "      <td>Orthodox</td>\n",
       "      <td>Jan 25, 1995</td>\n",
       "    </tr>\n",
       "    <tr>\n",
       "      <td>3309</td>\n",
       "      <td>Zhang Lipeng</td>\n",
       "      <td>5' 11\"</td>\n",
       "      <td>155 lbs.</td>\n",
       "      <td>71\"</td>\n",
       "      <td>Southpaw</td>\n",
       "      <td>Mar 10, 1990</td>\n",
       "    </tr>\n",
       "    <tr>\n",
       "      <td>3310</td>\n",
       "      <td>Zoila Frausto</td>\n",
       "      <td>5' 4\"</td>\n",
       "      <td>135 lbs.</td>\n",
       "      <td>NaN</td>\n",
       "      <td>Orthodox</td>\n",
       "      <td>NaN</td>\n",
       "    </tr>\n",
       "    <tr>\n",
       "      <td>3311</td>\n",
       "      <td>Zu Anyanwu</td>\n",
       "      <td>6' 1\"</td>\n",
       "      <td>251 lbs.</td>\n",
       "      <td>77\"</td>\n",
       "      <td>Orthodox</td>\n",
       "      <td>Aug 05, 1981</td>\n",
       "    </tr>\n",
       "    <tr>\n",
       "      <td>3312</td>\n",
       "      <td>Zubaira Tukhugov</td>\n",
       "      <td>5' 8\"</td>\n",
       "      <td>145 lbs.</td>\n",
       "      <td>68\"</td>\n",
       "      <td>Orthodox</td>\n",
       "      <td>Jan 15, 1991</td>\n",
       "    </tr>\n",
       "  </tbody>\n",
       "</table>\n",
       "</div>"
      ],
      "text/plain": [
       "          fighter_name  Height    Weight Reach    Stance           DOB\n",
       "3308     Zelim Imadaev   6' 0\"  170 lbs.   76\"  Orthodox  Jan 25, 1995\n",
       "3309      Zhang Lipeng  5' 11\"  155 lbs.   71\"  Southpaw  Mar 10, 1990\n",
       "3310     Zoila Frausto   5' 4\"  135 lbs.   NaN  Orthodox           NaN\n",
       "3311        Zu Anyanwu   6' 1\"  251 lbs.   77\"  Orthodox  Aug 05, 1981\n",
       "3312  Zubaira Tukhugov   5' 8\"  145 lbs.   68\"  Orthodox  Jan 15, 1991"
      ]
     },
     "execution_count": 6,
     "metadata": {},
     "output_type": "execute_result"
    }
   ],
   "source": [
    "fighters.tail()"
   ]
  },
  {
   "cell_type": "markdown",
   "metadata": {},
   "source": [
    "很奇怪后三列在头部全缺失， 而在尾部有"
   ]
  },
  {
   "cell_type": "code",
   "execution_count": 7,
   "metadata": {},
   "outputs": [
    {
     "data": {
      "text/plain": [
       "(3313, 6)"
      ]
     },
     "execution_count": 7,
     "metadata": {},
     "output_type": "execute_result"
    }
   ],
   "source": [
    "fighters.shape"
   ]
  },
  {
   "cell_type": "markdown",
   "metadata": {},
   "source": [
    "检查是否每行对应一位运动员"
   ]
  },
  {
   "cell_type": "code",
   "execution_count": 8,
   "metadata": {},
   "outputs": [
    {
     "data": {
      "text/plain": [
       "3313"
      ]
     },
     "execution_count": 8,
     "metadata": {},
     "output_type": "execute_result"
    }
   ],
   "source": [
    "fighters['fighter_name'].nunique()"
   ]
  },
  {
   "cell_type": "markdown",
   "metadata": {},
   "source": [
    " 确实，其中每行对应一位运动员\n",
    " 看多少行最后三列缺失"
   ]
  },
  {
   "cell_type": "code",
   "execution_count": 9,
   "metadata": {},
   "outputs": [
    {
     "data": {
      "text/plain": [
       "430"
      ]
     },
     "execution_count": 9,
     "metadata": {},
     "output_type": "execute_result"
    }
   ],
   "source": [
    "((fighters['Reach'].isnull()) & (fighters['Stance'].isnull()) & (fighters['DOB'].isnull())).sum(axis=0)"
   ]
  },
  {
   "cell_type": "markdown",
   "metadata": {},
   "source": [
    "看看数据缺失情况"
   ]
  },
  {
   "cell_type": "code",
   "execution_count": 10,
   "metadata": {},
   "outputs": [
    {
     "data": {
      "text/plain": [
       "fighter_name       0\n",
       "Height           263\n",
       "Weight            75\n",
       "Reach           1744\n",
       "Stance           874\n",
       "DOB              740\n",
       "dtype: int64"
      ]
     },
     "execution_count": 10,
     "metadata": {},
     "output_type": "execute_result"
    }
   ],
   "source": [
    "fighters.isnull().sum(axis=0)"
   ]
  },
  {
   "cell_type": "markdown",
   "metadata": {},
   "source": [
    "有些特征的缺失很严重,\n",
    "看看数据类型."
   ]
  },
  {
   "cell_type": "code",
   "execution_count": 11,
   "metadata": {},
   "outputs": [
    {
     "data": {
      "text/plain": [
       "fighter_name    object\n",
       "Height          object\n",
       "Weight          object\n",
       "Reach           object\n",
       "Stance          object\n",
       "DOB             object\n",
       "dtype: object"
      ]
     },
     "execution_count": 11,
     "metadata": {},
     "output_type": "execute_result"
    }
   ],
   "source": [
    "fighters.dtypes"
   ]
  },
  {
   "cell_type": "markdown",
   "metadata": {},
   "source": [
    "将Height, Weight, Reach 转化成数字型公制"
   ]
  },
  {
   "cell_type": "code",
   "execution_count": 12,
   "metadata": {},
   "outputs": [],
   "source": [
    "feet_inches = fighters['Height'].str.extract(r'([0-9]+)\\'[\\s]*([0-9]+)')"
   ]
  },
  {
   "cell_type": "code",
   "execution_count": 13,
   "metadata": {},
   "outputs": [],
   "source": [
    "fighters['Height(cm)'] = feet_inches.loc[:, 0].astype('float')*30.48 + feet_inches.loc[:, 1].astype('float')*2.54"
   ]
  },
  {
   "cell_type": "code",
   "execution_count": 14,
   "metadata": {},
   "outputs": [
    {
     "data": {
      "text/html": [
       "<div>\n",
       "<style scoped>\n",
       "    .dataframe tbody tr th:only-of-type {\n",
       "        vertical-align: middle;\n",
       "    }\n",
       "\n",
       "    .dataframe tbody tr th {\n",
       "        vertical-align: top;\n",
       "    }\n",
       "\n",
       "    .dataframe thead th {\n",
       "        text-align: right;\n",
       "    }\n",
       "</style>\n",
       "<table border=\"1\" class=\"dataframe\">\n",
       "  <thead>\n",
       "    <tr style=\"text-align: right;\">\n",
       "      <th></th>\n",
       "      <th>fighter_name</th>\n",
       "      <th>Height</th>\n",
       "      <th>Weight</th>\n",
       "      <th>Reach</th>\n",
       "      <th>Stance</th>\n",
       "      <th>DOB</th>\n",
       "      <th>Height(cm)</th>\n",
       "    </tr>\n",
       "  </thead>\n",
       "  <tbody>\n",
       "    <tr>\n",
       "      <td>0</td>\n",
       "      <td>AJ Fonseca</td>\n",
       "      <td>5' 4\"</td>\n",
       "      <td>145 lbs.</td>\n",
       "      <td>NaN</td>\n",
       "      <td>NaN</td>\n",
       "      <td>NaN</td>\n",
       "      <td>162.56</td>\n",
       "    </tr>\n",
       "    <tr>\n",
       "      <td>1</td>\n",
       "      <td>AJ Matthews</td>\n",
       "      <td>5' 11\"</td>\n",
       "      <td>185 lbs.</td>\n",
       "      <td>NaN</td>\n",
       "      <td>NaN</td>\n",
       "      <td>NaN</td>\n",
       "      <td>180.34</td>\n",
       "    </tr>\n",
       "    <tr>\n",
       "      <td>2</td>\n",
       "      <td>AJ McKee</td>\n",
       "      <td>5' 10\"</td>\n",
       "      <td>145 lbs.</td>\n",
       "      <td>NaN</td>\n",
       "      <td>NaN</td>\n",
       "      <td>NaN</td>\n",
       "      <td>177.80</td>\n",
       "    </tr>\n",
       "  </tbody>\n",
       "</table>\n",
       "</div>"
      ],
      "text/plain": [
       "  fighter_name  Height    Weight Reach Stance  DOB  Height(cm)\n",
       "0   AJ Fonseca   5' 4\"  145 lbs.   NaN    NaN  NaN      162.56\n",
       "1  AJ Matthews  5' 11\"  185 lbs.   NaN    NaN  NaN      180.34\n",
       "2     AJ McKee  5' 10\"  145 lbs.   NaN    NaN  NaN      177.80"
      ]
     },
     "execution_count": 14,
     "metadata": {},
     "output_type": "execute_result"
    }
   ],
   "source": [
    "fighters.head(3)"
   ]
  },
  {
   "cell_type": "code",
   "execution_count": 15,
   "metadata": {},
   "outputs": [],
   "source": [
    "fighters['Weight(kg)'] = fighters['Weight'].str.extract(r'([0-9]+)').astype('float')*0.453592"
   ]
  },
  {
   "cell_type": "code",
   "execution_count": 16,
   "metadata": {},
   "outputs": [
    {
     "data": {
      "text/html": [
       "<div>\n",
       "<style scoped>\n",
       "    .dataframe tbody tr th:only-of-type {\n",
       "        vertical-align: middle;\n",
       "    }\n",
       "\n",
       "    .dataframe tbody tr th {\n",
       "        vertical-align: top;\n",
       "    }\n",
       "\n",
       "    .dataframe thead th {\n",
       "        text-align: right;\n",
       "    }\n",
       "</style>\n",
       "<table border=\"1\" class=\"dataframe\">\n",
       "  <thead>\n",
       "    <tr style=\"text-align: right;\">\n",
       "      <th></th>\n",
       "      <th>fighter_name</th>\n",
       "      <th>Height</th>\n",
       "      <th>Weight</th>\n",
       "      <th>Reach</th>\n",
       "      <th>Stance</th>\n",
       "      <th>DOB</th>\n",
       "      <th>Height(cm)</th>\n",
       "      <th>Weight(kg)</th>\n",
       "    </tr>\n",
       "  </thead>\n",
       "  <tbody>\n",
       "    <tr>\n",
       "      <td>0</td>\n",
       "      <td>AJ Fonseca</td>\n",
       "      <td>5' 4\"</td>\n",
       "      <td>145 lbs.</td>\n",
       "      <td>NaN</td>\n",
       "      <td>NaN</td>\n",
       "      <td>NaN</td>\n",
       "      <td>162.56</td>\n",
       "      <td>65.77084</td>\n",
       "    </tr>\n",
       "    <tr>\n",
       "      <td>1</td>\n",
       "      <td>AJ Matthews</td>\n",
       "      <td>5' 11\"</td>\n",
       "      <td>185 lbs.</td>\n",
       "      <td>NaN</td>\n",
       "      <td>NaN</td>\n",
       "      <td>NaN</td>\n",
       "      <td>180.34</td>\n",
       "      <td>83.91452</td>\n",
       "    </tr>\n",
       "    <tr>\n",
       "      <td>2</td>\n",
       "      <td>AJ McKee</td>\n",
       "      <td>5' 10\"</td>\n",
       "      <td>145 lbs.</td>\n",
       "      <td>NaN</td>\n",
       "      <td>NaN</td>\n",
       "      <td>NaN</td>\n",
       "      <td>177.80</td>\n",
       "      <td>65.77084</td>\n",
       "    </tr>\n",
       "  </tbody>\n",
       "</table>\n",
       "</div>"
      ],
      "text/plain": [
       "  fighter_name  Height    Weight Reach Stance  DOB  Height(cm)  Weight(kg)\n",
       "0   AJ Fonseca   5' 4\"  145 lbs.   NaN    NaN  NaN      162.56    65.77084\n",
       "1  AJ Matthews  5' 11\"  185 lbs.   NaN    NaN  NaN      180.34    83.91452\n",
       "2     AJ McKee  5' 10\"  145 lbs.   NaN    NaN  NaN      177.80    65.77084"
      ]
     },
     "execution_count": 16,
     "metadata": {},
     "output_type": "execute_result"
    }
   ],
   "source": [
    "fighters.head(3)"
   ]
  },
  {
   "cell_type": "code",
   "execution_count": 17,
   "metadata": {},
   "outputs": [],
   "source": [
    "fighters['Reach(cm)'] = fighters['Reach'].str.extract(r'([0-9]+)').astype('float') * 2.54"
   ]
  },
  {
   "cell_type": "code",
   "execution_count": 18,
   "metadata": {},
   "outputs": [
    {
     "data": {
      "text/html": [
       "<div>\n",
       "<style scoped>\n",
       "    .dataframe tbody tr th:only-of-type {\n",
       "        vertical-align: middle;\n",
       "    }\n",
       "\n",
       "    .dataframe tbody tr th {\n",
       "        vertical-align: top;\n",
       "    }\n",
       "\n",
       "    .dataframe thead th {\n",
       "        text-align: right;\n",
       "    }\n",
       "</style>\n",
       "<table border=\"1\" class=\"dataframe\">\n",
       "  <thead>\n",
       "    <tr style=\"text-align: right;\">\n",
       "      <th></th>\n",
       "      <th>fighter_name</th>\n",
       "      <th>Height</th>\n",
       "      <th>Weight</th>\n",
       "      <th>Reach</th>\n",
       "      <th>Stance</th>\n",
       "      <th>DOB</th>\n",
       "      <th>Height(cm)</th>\n",
       "      <th>Weight(kg)</th>\n",
       "      <th>Reach(cm)</th>\n",
       "    </tr>\n",
       "  </thead>\n",
       "  <tbody>\n",
       "    <tr>\n",
       "      <td>3310</td>\n",
       "      <td>Zoila Frausto</td>\n",
       "      <td>5' 4\"</td>\n",
       "      <td>135 lbs.</td>\n",
       "      <td>NaN</td>\n",
       "      <td>Orthodox</td>\n",
       "      <td>NaN</td>\n",
       "      <td>162.56</td>\n",
       "      <td>61.234920</td>\n",
       "      <td>NaN</td>\n",
       "    </tr>\n",
       "    <tr>\n",
       "      <td>3311</td>\n",
       "      <td>Zu Anyanwu</td>\n",
       "      <td>6' 1\"</td>\n",
       "      <td>251 lbs.</td>\n",
       "      <td>77\"</td>\n",
       "      <td>Orthodox</td>\n",
       "      <td>Aug 05, 1981</td>\n",
       "      <td>185.42</td>\n",
       "      <td>113.851592</td>\n",
       "      <td>195.58</td>\n",
       "    </tr>\n",
       "    <tr>\n",
       "      <td>3312</td>\n",
       "      <td>Zubaira Tukhugov</td>\n",
       "      <td>5' 8\"</td>\n",
       "      <td>145 lbs.</td>\n",
       "      <td>68\"</td>\n",
       "      <td>Orthodox</td>\n",
       "      <td>Jan 15, 1991</td>\n",
       "      <td>172.72</td>\n",
       "      <td>65.770840</td>\n",
       "      <td>172.72</td>\n",
       "    </tr>\n",
       "  </tbody>\n",
       "</table>\n",
       "</div>"
      ],
      "text/plain": [
       "          fighter_name Height    Weight Reach    Stance           DOB  \\\n",
       "3310     Zoila Frausto  5' 4\"  135 lbs.   NaN  Orthodox           NaN   \n",
       "3311        Zu Anyanwu  6' 1\"  251 lbs.   77\"  Orthodox  Aug 05, 1981   \n",
       "3312  Zubaira Tukhugov  5' 8\"  145 lbs.   68\"  Orthodox  Jan 15, 1991   \n",
       "\n",
       "      Height(cm)  Weight(kg)  Reach(cm)  \n",
       "3310      162.56   61.234920        NaN  \n",
       "3311      185.42  113.851592     195.58  \n",
       "3312      172.72   65.770840     172.72  "
      ]
     },
     "execution_count": 18,
     "metadata": {},
     "output_type": "execute_result"
    }
   ],
   "source": [
    "fighters.tail(3)"
   ]
  },
  {
   "cell_type": "code",
   "execution_count": 19,
   "metadata": {},
   "outputs": [],
   "source": [
    "fighters.drop(['Height', 'Weight', 'Reach'], axis=1, inplace=True)"
   ]
  },
  {
   "cell_type": "markdown",
   "metadata": {},
   "source": [
    "将出生日期转化成时间类型"
   ]
  },
  {
   "cell_type": "code",
   "execution_count": 20,
   "metadata": {},
   "outputs": [],
   "source": [
    "DOB = pd.to_datetime(fighters['DOB'])"
   ]
  },
  {
   "cell_type": "code",
   "execution_count": 21,
   "metadata": {},
   "outputs": [],
   "source": [
    "fighters['DOB'] = DOB"
   ]
  },
  {
   "cell_type": "code",
   "execution_count": 22,
   "metadata": {},
   "outputs": [
    {
     "data": {
      "text/html": [
       "<div>\n",
       "<style scoped>\n",
       "    .dataframe tbody tr th:only-of-type {\n",
       "        vertical-align: middle;\n",
       "    }\n",
       "\n",
       "    .dataframe tbody tr th {\n",
       "        vertical-align: top;\n",
       "    }\n",
       "\n",
       "    .dataframe thead th {\n",
       "        text-align: right;\n",
       "    }\n",
       "</style>\n",
       "<table border=\"1\" class=\"dataframe\">\n",
       "  <thead>\n",
       "    <tr style=\"text-align: right;\">\n",
       "      <th></th>\n",
       "      <th>fighter_name</th>\n",
       "      <th>Stance</th>\n",
       "      <th>DOB</th>\n",
       "      <th>Height(cm)</th>\n",
       "      <th>Weight(kg)</th>\n",
       "      <th>Reach(cm)</th>\n",
       "    </tr>\n",
       "  </thead>\n",
       "  <tbody>\n",
       "    <tr>\n",
       "      <td>3310</td>\n",
       "      <td>Zoila Frausto</td>\n",
       "      <td>Orthodox</td>\n",
       "      <td>NaT</td>\n",
       "      <td>162.56</td>\n",
       "      <td>61.234920</td>\n",
       "      <td>NaN</td>\n",
       "    </tr>\n",
       "    <tr>\n",
       "      <td>3311</td>\n",
       "      <td>Zu Anyanwu</td>\n",
       "      <td>Orthodox</td>\n",
       "      <td>1981-08-05</td>\n",
       "      <td>185.42</td>\n",
       "      <td>113.851592</td>\n",
       "      <td>195.58</td>\n",
       "    </tr>\n",
       "    <tr>\n",
       "      <td>3312</td>\n",
       "      <td>Zubaira Tukhugov</td>\n",
       "      <td>Orthodox</td>\n",
       "      <td>1991-01-15</td>\n",
       "      <td>172.72</td>\n",
       "      <td>65.770840</td>\n",
       "      <td>172.72</td>\n",
       "    </tr>\n",
       "  </tbody>\n",
       "</table>\n",
       "</div>"
      ],
      "text/plain": [
       "          fighter_name    Stance        DOB  Height(cm)  Weight(kg)  Reach(cm)\n",
       "3310     Zoila Frausto  Orthodox        NaT      162.56   61.234920        NaN\n",
       "3311        Zu Anyanwu  Orthodox 1981-08-05      185.42  113.851592     195.58\n",
       "3312  Zubaira Tukhugov  Orthodox 1991-01-15      172.72   65.770840     172.72"
      ]
     },
     "execution_count": 22,
     "metadata": {},
     "output_type": "execute_result"
    }
   ],
   "source": [
    "fighters.tail(3)"
   ]
  },
  {
   "cell_type": "markdown",
   "metadata": {},
   "source": [
    "看看数据的统计量"
   ]
  },
  {
   "cell_type": "code",
   "execution_count": 23,
   "metadata": {},
   "outputs": [
    {
     "data": {
      "text/html": [
       "<div>\n",
       "<style scoped>\n",
       "    .dataframe tbody tr th:only-of-type {\n",
       "        vertical-align: middle;\n",
       "    }\n",
       "\n",
       "    .dataframe tbody tr th {\n",
       "        vertical-align: top;\n",
       "    }\n",
       "\n",
       "    .dataframe thead th {\n",
       "        text-align: right;\n",
       "    }\n",
       "</style>\n",
       "<table border=\"1\" class=\"dataframe\">\n",
       "  <thead>\n",
       "    <tr style=\"text-align: right;\">\n",
       "      <th></th>\n",
       "      <th>Height(cm)</th>\n",
       "      <th>Weight(kg)</th>\n",
       "      <th>Reach(cm)</th>\n",
       "    </tr>\n",
       "  </thead>\n",
       "  <tbody>\n",
       "    <tr>\n",
       "      <td>count</td>\n",
       "      <td>3050.000000</td>\n",
       "      <td>3238.000000</td>\n",
       "      <td>1569.000000</td>\n",
       "    </tr>\n",
       "    <tr>\n",
       "      <td>mean</td>\n",
       "      <td>178.790184</td>\n",
       "      <td>79.004996</td>\n",
       "      <td>182.425099</td>\n",
       "    </tr>\n",
       "    <tr>\n",
       "      <td>std</td>\n",
       "      <td>8.684749</td>\n",
       "      <td>18.312404</td>\n",
       "      <td>10.419647</td>\n",
       "    </tr>\n",
       "    <tr>\n",
       "      <td>min</td>\n",
       "      <td>149.860000</td>\n",
       "      <td>47.627160</td>\n",
       "      <td>152.400000</td>\n",
       "    </tr>\n",
       "    <tr>\n",
       "      <td>25%</td>\n",
       "      <td>172.720000</td>\n",
       "      <td>65.770840</td>\n",
       "      <td>175.260000</td>\n",
       "    </tr>\n",
       "    <tr>\n",
       "      <td>50%</td>\n",
       "      <td>177.800000</td>\n",
       "      <td>77.110640</td>\n",
       "      <td>182.880000</td>\n",
       "    </tr>\n",
       "    <tr>\n",
       "      <td>75%</td>\n",
       "      <td>185.420000</td>\n",
       "      <td>83.914520</td>\n",
       "      <td>190.500000</td>\n",
       "    </tr>\n",
       "    <tr>\n",
       "      <td>max</td>\n",
       "      <td>226.060000</td>\n",
       "      <td>349.265840</td>\n",
       "      <td>213.360000</td>\n",
       "    </tr>\n",
       "  </tbody>\n",
       "</table>\n",
       "</div>"
      ],
      "text/plain": [
       "        Height(cm)   Weight(kg)    Reach(cm)\n",
       "count  3050.000000  3238.000000  1569.000000\n",
       "mean    178.790184    79.004996   182.425099\n",
       "std       8.684749    18.312404    10.419647\n",
       "min     149.860000    47.627160   152.400000\n",
       "25%     172.720000    65.770840   175.260000\n",
       "50%     177.800000    77.110640   182.880000\n",
       "75%     185.420000    83.914520   190.500000\n",
       "max     226.060000   349.265840   213.360000"
      ]
     },
     "execution_count": 23,
     "metadata": {},
     "output_type": "execute_result"
    }
   ],
   "source": [
    "fighters.describe()"
   ]
  },
  {
   "cell_type": "markdown",
   "metadata": {},
   "source": [
    "看看运动员们的身高分布"
   ]
  },
  {
   "cell_type": "code",
   "execution_count": 24,
   "metadata": {},
   "outputs": [
    {
     "data": {
      "text/plain": [
       "Text(0.5, 1.0, 'Height of all UFC fighters')"
      ]
     },
     "execution_count": 24,
     "metadata": {},
     "output_type": "execute_result"
    },
    {
     "data": {
      "image/png": "[encoded data removed]",
      "text/plain": [
       "<Figure size 432x288 with 1 Axes>"
      ]
     },
     "metadata": {
      "needs_background": "light"
     },
     "output_type": "display_data"
    }
   ],
   "source": [
    "fig, ax = plt.subplots()\n",
    "ax = sns.boxplot(y='Height(cm)', data=fighters)\n",
    "ax.set_title('Height of all UFC fighters')"
   ]
  },
  {
   "cell_type": "markdown",
   "metadata": {},
   "source": [
    "可以看到UFC运动员的身高集中在170-190cm之间，平均身高在178cm左右\n",
    "且分布很平均。再看体重分布。"
   ]
  },
  {
   "cell_type": "code",
   "execution_count": 25,
   "metadata": {},
   "outputs": [
    {
     "data": {
      "text/plain": [
       "Text(0.5, 1.0, 'Weight of all UFC fighters')"
      ]
     },
     "execution_count": 25,
     "metadata": {},
     "output_type": "execute_result"
    },
    {
     "data": {
      "image/png": "[encoded data removed]",
      "text/plain": [
       "<Figure size 432x288 with 1 Axes>"
      ]
     },
     "metadata": {
      "needs_background": "light"
     },
     "output_type": "display_data"
    }
   ],
   "source": [
    "fig, ax = plt.subplots()\n",
    "ax = sns.boxplot(y='Weight(kg)', data=fighters)\n",
    "ax.set_title('Weight of all UFC fighters')"
   ]
  },
  {
   "cell_type": "markdown",
   "metadata": {},
   "source": [
    "有一些体重异常大的运动员，看一下体重的分布图"
   ]
  },
  {
   "cell_type": "code",
   "execution_count": 26,
   "metadata": {},
   "outputs": [
    {
     "data": {
      "image/png": "[encoded data removed]",
      "text/plain": [
       "<Figure size 432x288 with 1 Axes>"
      ]
     },
     "metadata": {
      "needs_background": "light"
     },
     "output_type": "display_data"
    },
    {
     "data": {
      "image/png": "[encoded data removed]",
      "text/plain": [
       "<Figure size 432x288 with 1 Axes>"
      ]
     },
     "metadata": {
      "needs_background": "light"
     },
     "output_type": "display_data"
    }
   ],
   "source": [
    "from scipy.stats import norm\n",
    "from scipy import stats\n",
    "sns.distplot(fighters['Weight(kg)'][fighters['Weight(kg)'].notnull()], fit=norm)\n",
    "fig = plt.figure()\n",
    "res = stats.probplot(fighters['Weight(kg)'][fighters['Weight(kg)'].notnull()], plot=plt)"
   ]
  },
  {
   "cell_type": "markdown",
   "metadata": {},
   "source": [
    " 由分布图可看到运动员的体重在50kg-100kg之间既有集中，又有非常稀疏的部分，\n",
    "可能是因为数据太少而分得太细了"
   ]
  },
  {
   "cell_type": "code",
   "execution_count": 27,
   "metadata": {},
   "outputs": [
    {
     "data": {
      "text/plain": [
       "<matplotlib.axes._subplots.AxesSubplot at 0x7f0930401650>"
      ]
     },
     "execution_count": 27,
     "metadata": {},
     "output_type": "execute_result"
    },
    {
     "data": {
      "image/png": "[encoded data removed]",
      "text/plain": [
       "<Figure size 432x288 with 1 Axes>"
      ]
     },
     "metadata": {
      "needs_background": "light"
     },
     "output_type": "display_data"
    }
   ],
   "source": [
    "\n",
    "sns.distplot(fighters['Weight(kg)'][fighters['Weight(kg)'].notnull()], bins=20, fit=norm)"
   ]
  },
  {
   "cell_type": "markdown",
   "metadata": {},
   "source": [
    "当将条形图的分区加宽之后，其分布正态性改善"
   ]
  },
  {
   "cell_type": "code",
   "execution_count": 28,
   "metadata": {},
   "outputs": [
    {
     "data": {
      "text/plain": [
       "count    3238.000000\n",
       "mean       79.004996\n",
       "std        18.312404\n",
       "min        47.627160\n",
       "25%        65.770840\n",
       "50%        77.110640\n",
       "75%        83.914520\n",
       "max       349.265840\n",
       "Name: Weight(kg), dtype: float64"
      ]
     },
     "execution_count": 28,
     "metadata": {},
     "output_type": "execute_result"
    }
   ],
   "source": [
    "fighters['Weight(kg)'].describe()"
   ]
  },
  {
   "cell_type": "markdown",
   "metadata": {},
   "source": [
    "可以看到UFC运动员的平均体重在80kg，\n",
    "最小体重也超过了47kg，可能是小量级的女子运动员\n",
    "，而最大体重到了350kg， 应是不限体重的运动员"
   ]
  },
  {
   "cell_type": "code",
   "execution_count": 29,
   "metadata": {},
   "outputs": [
    {
     "data": {
      "text/html": [
       "<div>\n",
       "<style scoped>\n",
       "    .dataframe tbody tr th:only-of-type {\n",
       "        vertical-align: middle;\n",
       "    }\n",
       "\n",
       "    .dataframe tbody tr th {\n",
       "        vertical-align: top;\n",
       "    }\n",
       "\n",
       "    .dataframe thead th {\n",
       "        text-align: right;\n",
       "    }\n",
       "</style>\n",
       "<table border=\"1\" class=\"dataframe\">\n",
       "  <thead>\n",
       "    <tr style=\"text-align: right;\">\n",
       "      <th></th>\n",
       "      <th>fighter_name</th>\n",
       "      <th>Stance</th>\n",
       "      <th>DOB</th>\n",
       "      <th>Height(cm)</th>\n",
       "      <th>Weight(kg)</th>\n",
       "      <th>Reach(cm)</th>\n",
       "    </tr>\n",
       "  </thead>\n",
       "  <tbody>\n",
       "    <tr>\n",
       "      <td>2366</td>\n",
       "      <td>Naho Sugiyuma</td>\n",
       "      <td>NaN</td>\n",
       "      <td>1978-02-03</td>\n",
       "      <td>154.94</td>\n",
       "      <td>47.62716</td>\n",
       "      <td>NaN</td>\n",
       "    </tr>\n",
       "    <tr>\n",
       "      <td>2393</td>\n",
       "      <td>Nicdali Rivera-Calanoc</td>\n",
       "      <td>NaN</td>\n",
       "      <td>1985-06-12</td>\n",
       "      <td>160.02</td>\n",
       "      <td>47.62716</td>\n",
       "      <td>NaN</td>\n",
       "    </tr>\n",
       "  </tbody>\n",
       "</table>\n",
       "</div>"
      ],
      "text/plain": [
       "                fighter_name Stance        DOB  Height(cm)  Weight(kg)  \\\n",
       "2366           Naho Sugiyuma    NaN 1978-02-03      154.94    47.62716   \n",
       "2393  Nicdali Rivera-Calanoc    NaN 1985-06-12      160.02    47.62716   \n",
       "\n",
       "      Reach(cm)  \n",
       "2366        NaN  \n",
       "2393        NaN  "
      ]
     },
     "execution_count": 29,
     "metadata": {},
     "output_type": "execute_result"
    }
   ],
   "source": [
    "fighters.loc[fighters['Weight(kg)']==fighters['Weight(kg)'].min(), :]"
   ]
  },
  {
   "cell_type": "markdown",
   "metadata": {},
   "source": [
    "Google 发现二者分别是日本及美国的女子mma运动员"
   ]
  },
  {
   "cell_type": "code",
   "execution_count": 30,
   "metadata": {},
   "outputs": [
    {
     "data": {
      "text/html": [
       "<div>\n",
       "<style scoped>\n",
       "    .dataframe tbody tr th:only-of-type {\n",
       "        vertical-align: middle;\n",
       "    }\n",
       "\n",
       "    .dataframe tbody tr th {\n",
       "        vertical-align: top;\n",
       "    }\n",
       "\n",
       "    .dataframe thead th {\n",
       "        text-align: right;\n",
       "    }\n",
       "</style>\n",
       "<table border=\"1\" class=\"dataframe\">\n",
       "  <thead>\n",
       "    <tr style=\"text-align: right;\">\n",
       "      <th></th>\n",
       "      <th>fighter_name</th>\n",
       "      <th>Stance</th>\n",
       "      <th>DOB</th>\n",
       "      <th>Height(cm)</th>\n",
       "      <th>Weight(kg)</th>\n",
       "      <th>Reach(cm)</th>\n",
       "    </tr>\n",
       "  </thead>\n",
       "  <tbody>\n",
       "    <tr>\n",
       "      <td>994</td>\n",
       "      <td>Emmanuel Yarborough</td>\n",
       "      <td>Open Stance</td>\n",
       "      <td>1960-09-05</td>\n",
       "      <td>203.2</td>\n",
       "      <td>349.26584</td>\n",
       "      <td>NaN</td>\n",
       "    </tr>\n",
       "  </tbody>\n",
       "</table>\n",
       "</div>"
      ],
      "text/plain": [
       "            fighter_name       Stance        DOB  Height(cm)  Weight(kg)  \\\n",
       "994  Emmanuel Yarborough  Open Stance 1960-09-05       203.2   349.26584   \n",
       "\n",
       "     Reach(cm)  \n",
       "994        NaN  "
      ]
     },
     "execution_count": 30,
     "metadata": {},
     "output_type": "execute_result"
    }
   ],
   "source": [
    "fighters.loc[fighters['Weight(kg)']==fighters['Weight(kg)'].max(), :]"
   ]
  },
  {
   "cell_type": "markdown",
   "metadata": {},
   "source": [
    "这名运动员是Guinness认证的在世最重运动员"
   ]
  },
  {
   "cell_type": "markdown",
   "metadata": {},
   "source": [
    " 因数据包含了UFC从1993年创立到2019年的所有运动员所以单纯分析运动员的出生日期不是太有意义，\n",
    "我们来看看运动员的臂展分布"
   ]
  },
  {
   "cell_type": "code",
   "execution_count": 31,
   "metadata": {},
   "outputs": [
    {
     "data": {
      "text/plain": [
       "Text(0.5, 1.0, 'Reaches of all UFC fighters')"
      ]
     },
     "execution_count": 31,
     "metadata": {},
     "output_type": "execute_result"
    },
    {
     "data": {
      "image/png": "[encoded data removed]",
      "text/plain": [
       "<Figure size 432x288 with 1 Axes>"
      ]
     },
     "metadata": {
      "needs_background": "light"
     },
     "output_type": "display_data"
    }
   ],
   "source": [
    "\n",
    "fig, ax = plt.subplots()\n",
    "ax = sns.boxplot(y='Reach(cm)', data=fighters)\n",
    "ax.set_title('Reaches of all UFC fighters')"
   ]
  },
  {
   "cell_type": "markdown",
   "metadata": {},
   "source": [
    "臂展分布非常平衡，来看看臂展和身高的关系"
   ]
  },
  {
   "cell_type": "code",
   "execution_count": 32,
   "metadata": {},
   "outputs": [
    {
     "data": {
      "image/png": "[encoded data removed]",
      "text/plain": [
       "<Figure size 432x288 with 1 Axes>"
      ]
     },
     "metadata": {
      "needs_background": "light"
     },
     "output_type": "display_data"
    }
   ],
   "source": [
    "fig, ax = plt.subplots()\n",
    "ax = sns.regplot(x='Height(cm)', y='Reach(cm)', data=fighters)"
   ]
  },
  {
   "cell_type": "markdown",
   "metadata": {},
   "source": [
    "臂展和身高有很好的线性关系，\n",
    "在来看看加上体重之后的情况"
   ]
  },
  {
   "cell_type": "code",
   "execution_count": 33,
   "metadata": {},
   "outputs": [
    {
     "data": {
      "image/png": "[encoded data removed]",
      "text/plain": [
       "<Figure size 576x432 with 1 Axes>"
      ]
     },
     "metadata": {
      "needs_background": "light"
     },
     "output_type": "display_data"
    }
   ],
   "source": [
    "\n",
    "fig, ax = plt.subplots(figsize=(8, 6))\n",
    "ax = sns.scatterplot(x='Height(cm)', y='Reach(cm)', size='Weight(kg)', data=fighters)"
   ]
  },
  {
   "cell_type": "markdown",
   "metadata": {},
   "source": [
    "那体重与身高呢？"
   ]
  },
  {
   "cell_type": "code",
   "execution_count": 34,
   "metadata": {},
   "outputs": [
    {
     "data": {
      "image/png": "[encoded data removed]",
      "text/plain": [
       "<Figure size 576x432 with 1 Axes>"
      ]
     },
     "metadata": {
      "needs_background": "light"
     },
     "output_type": "display_data"
    }
   ],
   "source": [
    "fig, ax = plt.subplots(figsize=(8, 6))\n",
    "ax = sns.scatterplot(x='Height(cm)', y='Weight(kg)', data=fighters)"
   ]
  },
  {
   "cell_type": "markdown",
   "metadata": {},
   "source": [
    "看起来体重与身高有正相关，但体重有非常大的，\n",
    "让我们除掉这些非常大体重的运动员数据再看看"
   ]
  },
  {
   "cell_type": "code",
   "execution_count": 35,
   "metadata": {},
   "outputs": [
    {
     "data": {
      "image/png": "[encoded data removed]",
      "text/plain": [
       "<Figure size 576x432 with 1 Axes>"
      ]
     },
     "metadata": {
      "needs_background": "light"
     },
     "output_type": "display_data"
    }
   ],
   "source": [
    "fig, ax = plt.subplots(figsize=(8, 6))\n",
    "ax = sns.scatterplot(x='Height(cm)', y='Weight(kg)',  data=fighters[fighters['Weight(kg)']<200])"
   ]
  },
  {
   "cell_type": "markdown",
   "metadata": {},
   "source": [
    "来看运动员的站姿"
   ]
  },
  {
   "cell_type": "code",
   "execution_count": 36,
   "metadata": {},
   "outputs": [
    {
     "data": {
      "text/plain": [
       "Orthodox       1913\n",
       "Southpaw        431\n",
       "Switch           85\n",
       "Open Stance       7\n",
       "Sideways          3\n",
       "Name: Stance, dtype: int64"
      ]
     },
     "execution_count": 36,
     "metadata": {},
     "output_type": "execute_result"
    }
   ],
   "source": [
    "fighters['Stance'].value_counts()"
   ]
  },
  {
   "cell_type": "markdown",
   "metadata": {},
   "source": [
    "总共有5种站姿，其中大多数人是正统站姿"
   ]
  },
  {
   "cell_type": "code",
   "execution_count": 37,
   "metadata": {},
   "outputs": [
    {
     "data": {
      "image/png": "[encoded data removed]",
      "text/plain": [
       "<Figure size 432x288 with 1 Axes>"
      ]
     },
     "metadata": {
      "needs_background": "light"
     },
     "output_type": "display_data"
    }
   ],
   "source": [
    "ax = sns.barplot(x=fighters['Stance'].value_counts().index, y=fighters['Stance'].value_counts())"
   ]
  },
  {
   "cell_type": "markdown",
   "metadata": {},
   "source": [
    "根据前面的讨论现在可以来不足一些缺失的数据了\n",
    "首先是站姿， 对缺失值都用Orthodox补全"
   ]
  },
  {
   "cell_type": "code",
   "execution_count": 38,
   "metadata": {},
   "outputs": [],
   "source": [
    "fighters['Stance'].fillna(value='Orthodox', inplace=True)"
   ]
  },
  {
   "cell_type": "markdown",
   "metadata": {},
   "source": [
    "对Reach 和 Height我们来进行线性拟合"
   ]
  },
  {
   "cell_type": "code",
   "execution_count": 39,
   "metadata": {},
   "outputs": [],
   "source": [
    "from sklearn.linear_model import LinearRegression\n",
    "X = fighters.loc[(fighters['Height(cm)'].notnull())&(fighters['Reach(cm)'].notnull()), 'Height(cm)'][:, np.newaxis]\n",
    "y = fighters.loc[(fighters['Height(cm)'].notnull())&(fighters['Reach(cm)'].notnull()), 'Reach(cm)']\n",
    "lm = LinearRegression().fit(X, y)\n"
   ]
  },
  {
   "cell_type": "code",
   "execution_count": 40,
   "metadata": {},
   "outputs": [
    {
     "name": "stdout",
     "output_type": "stream",
     "text": [
      "Reach = 1.055 * Height + -5.469\n"
     ]
    }
   ],
   "source": [
    "print('Reach = {:.3f} * Height + {:.3f}'.format(np.asscalar(lm.coef_), np.asscalar(lm.intercept_)))"
   ]
  },
  {
   "cell_type": "code",
   "execution_count": 41,
   "metadata": {},
   "outputs": [
    {
     "data": {
      "text/plain": [
       "262"
      ]
     },
     "execution_count": 41,
     "metadata": {},
     "output_type": "execute_result"
    }
   ],
   "source": [
    "((fighters['Height(cm)'].isnull())&(fighters['Reach(cm)'].isnull())).sum()"
   ]
  },
  {
   "cell_type": "code",
   "execution_count": 42,
   "metadata": {},
   "outputs": [],
   "source": [
    "index = ((fighters['Height(cm)'].notnull())&(fighters['Reach(cm)'].isnull())).index"
   ]
  },
  {
   "cell_type": "code",
   "execution_count": 43,
   "metadata": {},
   "outputs": [],
   "source": [
    "fighters['Reach(cm)'][index] = fighters['Height(cm)'][index] * 1.055 - 5.469"
   ]
  },
  {
   "cell_type": "code",
   "execution_count": 44,
   "metadata": {},
   "outputs": [],
   "source": [
    "index = ((fighters['Height(cm)'].isnull())&(fighters['Reach(cm)'].notnull())).index"
   ]
  },
  {
   "cell_type": "code",
   "execution_count": 45,
   "metadata": {},
   "outputs": [],
   "source": [
    "fighters['Height(cm)'][index] = (fighters['Reach(cm)']+5.469) / 1.055"
   ]
  },
  {
   "cell_type": "code",
   "execution_count": 46,
   "metadata": {},
   "outputs": [
    {
     "data": {
      "text/plain": [
       "Height(cm)    263\n",
       "Reach(cm)     263\n",
       "dtype: int64"
      ]
     },
     "execution_count": 46,
     "metadata": {},
     "output_type": "execute_result"
    }
   ],
   "source": [
    "fighters.loc[:, ['Height(cm)', 'Reach(cm)']].isnull().sum()"
   ]
  },
  {
   "cell_type": "code",
   "execution_count": 47,
   "metadata": {},
   "outputs": [
    {
     "data": {
      "text/html": [
       "<div>\n",
       "<style scoped>\n",
       "    .dataframe tbody tr th:only-of-type {\n",
       "        vertical-align: middle;\n",
       "    }\n",
       "\n",
       "    .dataframe tbody tr th {\n",
       "        vertical-align: top;\n",
       "    }\n",
       "\n",
       "    .dataframe thead th {\n",
       "        text-align: right;\n",
       "    }\n",
       "</style>\n",
       "<table border=\"1\" class=\"dataframe\">\n",
       "  <thead>\n",
       "    <tr style=\"text-align: right;\">\n",
       "      <th></th>\n",
       "      <th>fighter_name</th>\n",
       "      <th>Stance</th>\n",
       "      <th>DOB</th>\n",
       "      <th>Height(cm)</th>\n",
       "      <th>Weight(kg)</th>\n",
       "      <th>Reach(cm)</th>\n",
       "    </tr>\n",
       "  </thead>\n",
       "  <tbody>\n",
       "    <tr>\n",
       "      <td>3310</td>\n",
       "      <td>Zoila Frausto</td>\n",
       "      <td>Orthodox</td>\n",
       "      <td>NaT</td>\n",
       "      <td>162.56</td>\n",
       "      <td>61.234920</td>\n",
       "      <td>166.0318</td>\n",
       "    </tr>\n",
       "    <tr>\n",
       "      <td>3311</td>\n",
       "      <td>Zu Anyanwu</td>\n",
       "      <td>Orthodox</td>\n",
       "      <td>1981-08-05</td>\n",
       "      <td>185.42</td>\n",
       "      <td>113.851592</td>\n",
       "      <td>190.1491</td>\n",
       "    </tr>\n",
       "    <tr>\n",
       "      <td>3312</td>\n",
       "      <td>Zubaira Tukhugov</td>\n",
       "      <td>Orthodox</td>\n",
       "      <td>1991-01-15</td>\n",
       "      <td>172.72</td>\n",
       "      <td>65.770840</td>\n",
       "      <td>176.7506</td>\n",
       "    </tr>\n",
       "  </tbody>\n",
       "</table>\n",
       "</div>"
      ],
      "text/plain": [
       "          fighter_name    Stance        DOB  Height(cm)  Weight(kg)  Reach(cm)\n",
       "3310     Zoila Frausto  Orthodox        NaT      162.56   61.234920   166.0318\n",
       "3311        Zu Anyanwu  Orthodox 1981-08-05      185.42  113.851592   190.1491\n",
       "3312  Zubaira Tukhugov  Orthodox 1991-01-15      172.72   65.770840   176.7506"
      ]
     },
     "execution_count": 47,
     "metadata": {},
     "output_type": "execute_result"
    }
   ],
   "source": [
    "fighters.tail(3)"
   ]
  },
  {
   "cell_type": "markdown",
   "metadata": {},
   "source": [
    "还有263人Reach和Height数据都缺失，先搁置，\n",
    "来看看各场比赛的数据"
   ]
  },
  {
   "cell_type": "code",
   "execution_count": 48,
   "metadata": {},
   "outputs": [
    {
     "data": {
      "text/html": [
       "<div>\n",
       "<style scoped>\n",
       "    .dataframe tbody tr th:only-of-type {\n",
       "        vertical-align: middle;\n",
       "    }\n",
       "\n",
       "    .dataframe tbody tr th {\n",
       "        vertical-align: top;\n",
       "    }\n",
       "\n",
       "    .dataframe thead th {\n",
       "        text-align: right;\n",
       "    }\n",
       "</style>\n",
       "<table border=\"1\" class=\"dataframe\">\n",
       "  <thead>\n",
       "    <tr style=\"text-align: right;\">\n",
       "      <th></th>\n",
       "      <th>R_fighter</th>\n",
       "      <th>B_fighter</th>\n",
       "      <th>R_KD</th>\n",
       "      <th>B_KD</th>\n",
       "      <th>R_SIG_STR.</th>\n",
       "      <th>B_SIG_STR.</th>\n",
       "      <th>R_SIG_STR_pct</th>\n",
       "      <th>B_SIG_STR_pct</th>\n",
       "      <th>R_TOTAL_STR.</th>\n",
       "      <th>B_TOTAL_STR.</th>\n",
       "      <th>...</th>\n",
       "      <th>B_GROUND</th>\n",
       "      <th>win_by</th>\n",
       "      <th>last_round</th>\n",
       "      <th>last_round_time</th>\n",
       "      <th>Format</th>\n",
       "      <th>Referee</th>\n",
       "      <th>date</th>\n",
       "      <th>location</th>\n",
       "      <th>Fight_type</th>\n",
       "      <th>Winner</th>\n",
       "    </tr>\n",
       "  </thead>\n",
       "  <tbody>\n",
       "    <tr>\n",
       "      <td>0</td>\n",
       "      <td>Henry Cejudo</td>\n",
       "      <td>Marlon Moraes</td>\n",
       "      <td>0</td>\n",
       "      <td>0</td>\n",
       "      <td>90 of 171</td>\n",
       "      <td>57 of 119</td>\n",
       "      <td>52%</td>\n",
       "      <td>47%</td>\n",
       "      <td>99 of 182</td>\n",
       "      <td>59 of 121</td>\n",
       "      <td>...</td>\n",
       "      <td>1 of 1</td>\n",
       "      <td>KO/TKO</td>\n",
       "      <td>3</td>\n",
       "      <td>4:51</td>\n",
       "      <td>5 Rnd (5-5-5-5-5)</td>\n",
       "      <td>Marc Goddard</td>\n",
       "      <td>June 08, 2019</td>\n",
       "      <td>Chicago, Illinois, USA</td>\n",
       "      <td>UFC Bantamweight Title Bout</td>\n",
       "      <td>Henry Cejudo</td>\n",
       "    </tr>\n",
       "    <tr>\n",
       "      <td>1</td>\n",
       "      <td>Valentina Shevchenko</td>\n",
       "      <td>Jessica Eye</td>\n",
       "      <td>1</td>\n",
       "      <td>0</td>\n",
       "      <td>8 of 11</td>\n",
       "      <td>2 of 12</td>\n",
       "      <td>72%</td>\n",
       "      <td>16%</td>\n",
       "      <td>37 of 40</td>\n",
       "      <td>42 of 52</td>\n",
       "      <td>...</td>\n",
       "      <td>0 of 0</td>\n",
       "      <td>KO/TKO</td>\n",
       "      <td>2</td>\n",
       "      <td>0:26</td>\n",
       "      <td>5 Rnd (5-5-5-5-5)</td>\n",
       "      <td>Robert Madrigal</td>\n",
       "      <td>June 08, 2019</td>\n",
       "      <td>Chicago, Illinois, USA</td>\n",
       "      <td>UFC Women's Flyweight Title Bout</td>\n",
       "      <td>Valentina Shevchenko</td>\n",
       "    </tr>\n",
       "    <tr>\n",
       "      <td>2</td>\n",
       "      <td>Tony Ferguson</td>\n",
       "      <td>Donald Cerrone</td>\n",
       "      <td>0</td>\n",
       "      <td>0</td>\n",
       "      <td>104 of 200</td>\n",
       "      <td>68 of 185</td>\n",
       "      <td>52%</td>\n",
       "      <td>36%</td>\n",
       "      <td>104 of 200</td>\n",
       "      <td>68 of 185</td>\n",
       "      <td>...</td>\n",
       "      <td>0 of 0</td>\n",
       "      <td>TKO - Doctor's Stoppage</td>\n",
       "      <td>2</td>\n",
       "      <td>5:00</td>\n",
       "      <td>3 Rnd (5-5-5)</td>\n",
       "      <td>Dan Miragliotta</td>\n",
       "      <td>June 08, 2019</td>\n",
       "      <td>Chicago, Illinois, USA</td>\n",
       "      <td>Lightweight Bout</td>\n",
       "      <td>Tony Ferguson</td>\n",
       "    </tr>\n",
       "    <tr>\n",
       "      <td>3</td>\n",
       "      <td>Jimmie Rivera</td>\n",
       "      <td>Petr Yan</td>\n",
       "      <td>0</td>\n",
       "      <td>2</td>\n",
       "      <td>73 of 192</td>\n",
       "      <td>56 of 189</td>\n",
       "      <td>38%</td>\n",
       "      <td>29%</td>\n",
       "      <td>76 of 195</td>\n",
       "      <td>58 of 192</td>\n",
       "      <td>...</td>\n",
       "      <td>4 of 10</td>\n",
       "      <td>Decision - Unanimous</td>\n",
       "      <td>3</td>\n",
       "      <td>5:00</td>\n",
       "      <td>3 Rnd (5-5-5)</td>\n",
       "      <td>Kevin MacDonald</td>\n",
       "      <td>June 08, 2019</td>\n",
       "      <td>Chicago, Illinois, USA</td>\n",
       "      <td>Bantamweight Bout</td>\n",
       "      <td>Petr Yan</td>\n",
       "    </tr>\n",
       "    <tr>\n",
       "      <td>4</td>\n",
       "      <td>Tai Tuivasa</td>\n",
       "      <td>Blagoy Ivanov</td>\n",
       "      <td>0</td>\n",
       "      <td>1</td>\n",
       "      <td>64 of 144</td>\n",
       "      <td>73 of 123</td>\n",
       "      <td>44%</td>\n",
       "      <td>59%</td>\n",
       "      <td>66 of 146</td>\n",
       "      <td>81 of 131</td>\n",
       "      <td>...</td>\n",
       "      <td>6 of 6</td>\n",
       "      <td>Decision - Unanimous</td>\n",
       "      <td>3</td>\n",
       "      <td>5:00</td>\n",
       "      <td>3 Rnd (5-5-5)</td>\n",
       "      <td>Dan Miragliotta</td>\n",
       "      <td>June 08, 2019</td>\n",
       "      <td>Chicago, Illinois, USA</td>\n",
       "      <td>Heavyweight Bout</td>\n",
       "      <td>Blagoy Ivanov</td>\n",
       "    </tr>\n",
       "  </tbody>\n",
       "</table>\n",
       "<p>5 rows × 41 columns</p>\n",
       "</div>"
      ],
      "text/plain": [
       "              R_fighter       B_fighter  R_KD  B_KD  R_SIG_STR. B_SIG_STR.  \\\n",
       "0          Henry Cejudo   Marlon Moraes     0     0   90 of 171  57 of 119   \n",
       "1  Valentina Shevchenko     Jessica Eye     1     0     8 of 11    2 of 12   \n",
       "2         Tony Ferguson  Donald Cerrone     0     0  104 of 200  68 of 185   \n",
       "3         Jimmie Rivera        Petr Yan     0     2   73 of 192  56 of 189   \n",
       "4           Tai Tuivasa   Blagoy Ivanov     0     1   64 of 144  73 of 123   \n",
       "\n",
       "  R_SIG_STR_pct B_SIG_STR_pct R_TOTAL_STR. B_TOTAL_STR.  ... B_GROUND  \\\n",
       "0           52%           47%    99 of 182    59 of 121  ...   1 of 1   \n",
       "1           72%           16%     37 of 40     42 of 52  ...   0 of 0   \n",
       "2           52%           36%   104 of 200    68 of 185  ...   0 of 0   \n",
       "3           38%           29%    76 of 195    58 of 192  ...  4 of 10   \n",
       "4           44%           59%    66 of 146    81 of 131  ...   6 of 6   \n",
       "\n",
       "                    win_by last_round last_round_time             Format  \\\n",
       "0                   KO/TKO          3            4:51  5 Rnd (5-5-5-5-5)   \n",
       "1                   KO/TKO          2            0:26  5 Rnd (5-5-5-5-5)   \n",
       "2  TKO - Doctor's Stoppage          2            5:00      3 Rnd (5-5-5)   \n",
       "3     Decision - Unanimous          3            5:00      3 Rnd (5-5-5)   \n",
       "4     Decision - Unanimous          3            5:00      3 Rnd (5-5-5)   \n",
       "\n",
       "           Referee           date                location  \\\n",
       "0     Marc Goddard  June 08, 2019  Chicago, Illinois, USA   \n",
       "1  Robert Madrigal  June 08, 2019  Chicago, Illinois, USA   \n",
       "2  Dan Miragliotta  June 08, 2019  Chicago, Illinois, USA   \n",
       "3  Kevin MacDonald  June 08, 2019  Chicago, Illinois, USA   \n",
       "4  Dan Miragliotta  June 08, 2019  Chicago, Illinois, USA   \n",
       "\n",
       "                         Fight_type                Winner  \n",
       "0       UFC Bantamweight Title Bout          Henry Cejudo  \n",
       "1  UFC Women's Flyweight Title Bout  Valentina Shevchenko  \n",
       "2                  Lightweight Bout         Tony Ferguson  \n",
       "3                 Bantamweight Bout              Petr Yan  \n",
       "4                  Heavyweight Bout         Blagoy Ivanov  \n",
       "\n",
       "[5 rows x 41 columns]"
      ]
     },
     "execution_count": 48,
     "metadata": {},
     "output_type": "execute_result"
    }
   ],
   "source": [
    "fights.head()"
   ]
  },
  {
   "cell_type": "code",
   "execution_count": 49,
   "metadata": {},
   "outputs": [
    {
     "data": {
      "text/html": [
       "<div>\n",
       "<style scoped>\n",
       "    .dataframe tbody tr th:only-of-type {\n",
       "        vertical-align: middle;\n",
       "    }\n",
       "\n",
       "    .dataframe tbody tr th {\n",
       "        vertical-align: top;\n",
       "    }\n",
       "\n",
       "    .dataframe thead th {\n",
       "        text-align: right;\n",
       "    }\n",
       "</style>\n",
       "<table border=\"1\" class=\"dataframe\">\n",
       "  <thead>\n",
       "    <tr style=\"text-align: right;\">\n",
       "      <th></th>\n",
       "      <th>0</th>\n",
       "      <th>1</th>\n",
       "      <th>2</th>\n",
       "      <th>3</th>\n",
       "      <th>4</th>\n",
       "      <th>5</th>\n",
       "      <th>6</th>\n",
       "      <th>7</th>\n",
       "      <th>8</th>\n",
       "      <th>9</th>\n",
       "      <th>...</th>\n",
       "      <th>5134</th>\n",
       "      <th>5135</th>\n",
       "      <th>5136</th>\n",
       "      <th>5137</th>\n",
       "      <th>5138</th>\n",
       "      <th>5139</th>\n",
       "      <th>5140</th>\n",
       "      <th>5141</th>\n",
       "      <th>5142</th>\n",
       "      <th>5143</th>\n",
       "    </tr>\n",
       "  </thead>\n",
       "  <tbody>\n",
       "    <tr>\n",
       "      <td>R_fighter</td>\n",
       "      <td>Henry Cejudo</td>\n",
       "      <td>Valentina Shevchenko</td>\n",
       "      <td>Tony Ferguson</td>\n",
       "      <td>Jimmie Rivera</td>\n",
       "      <td>Tai Tuivasa</td>\n",
       "      <td>Tatiana Suarez</td>\n",
       "      <td>Aljamain Sterling</td>\n",
       "      <td>Karolina Kowalkiewicz</td>\n",
       "      <td>Ricardo Lamas</td>\n",
       "      <td>Yan Xiaonan</td>\n",
       "      <td>...</td>\n",
       "      <td>Patrick Smith</td>\n",
       "      <td>Scott Morris</td>\n",
       "      <td>Royce Gracie</td>\n",
       "      <td>Jason DeLucia</td>\n",
       "      <td>Royce Gracie</td>\n",
       "      <td>Gerard Gordeau</td>\n",
       "      <td>Ken Shamrock</td>\n",
       "      <td>Royce Gracie</td>\n",
       "      <td>Kevin Rosier</td>\n",
       "      <td>Gerard Gordeau</td>\n",
       "    </tr>\n",
       "    <tr>\n",
       "      <td>B_fighter</td>\n",
       "      <td>Marlon Moraes</td>\n",
       "      <td>Jessica Eye</td>\n",
       "      <td>Donald Cerrone</td>\n",
       "      <td>Petr Yan</td>\n",
       "      <td>Blagoy Ivanov</td>\n",
       "      <td>Nina Ansaroff</td>\n",
       "      <td>Pedro Munhoz</td>\n",
       "      <td>Alexa Grasso</td>\n",
       "      <td>Calvin Kattar</td>\n",
       "      <td>Angela Hill</td>\n",
       "      <td>...</td>\n",
       "      <td>Ray Wizard</td>\n",
       "      <td>Sean Daugherty</td>\n",
       "      <td>Gerard Gordeau</td>\n",
       "      <td>Trent Jenkins</td>\n",
       "      <td>Ken Shamrock</td>\n",
       "      <td>Kevin Rosier</td>\n",
       "      <td>Patrick Smith</td>\n",
       "      <td>Art Jimmerson</td>\n",
       "      <td>Zane Frazier</td>\n",
       "      <td>Teila Tuli</td>\n",
       "    </tr>\n",
       "    <tr>\n",
       "      <td>R_KD</td>\n",
       "      <td>0</td>\n",
       "      <td>1</td>\n",
       "      <td>0</td>\n",
       "      <td>0</td>\n",
       "      <td>0</td>\n",
       "      <td>0</td>\n",
       "      <td>0</td>\n",
       "      <td>0</td>\n",
       "      <td>0</td>\n",
       "      <td>0</td>\n",
       "      <td>...</td>\n",
       "      <td>0</td>\n",
       "      <td>0</td>\n",
       "      <td>0</td>\n",
       "      <td>0</td>\n",
       "      <td>0</td>\n",
       "      <td>1</td>\n",
       "      <td>0</td>\n",
       "      <td>0</td>\n",
       "      <td>2</td>\n",
       "      <td>0</td>\n",
       "    </tr>\n",
       "    <tr>\n",
       "      <td>B_KD</td>\n",
       "      <td>0</td>\n",
       "      <td>0</td>\n",
       "      <td>0</td>\n",
       "      <td>2</td>\n",
       "      <td>1</td>\n",
       "      <td>0</td>\n",
       "      <td>0</td>\n",
       "      <td>0</td>\n",
       "      <td>1</td>\n",
       "      <td>0</td>\n",
       "      <td>...</td>\n",
       "      <td>0</td>\n",
       "      <td>0</td>\n",
       "      <td>0</td>\n",
       "      <td>0</td>\n",
       "      <td>0</td>\n",
       "      <td>0</td>\n",
       "      <td>0</td>\n",
       "      <td>0</td>\n",
       "      <td>0</td>\n",
       "      <td>0</td>\n",
       "    </tr>\n",
       "    <tr>\n",
       "      <td>R_SIG_STR.</td>\n",
       "      <td>90 of 171</td>\n",
       "      <td>8 of 11</td>\n",
       "      <td>104 of 200</td>\n",
       "      <td>73 of 192</td>\n",
       "      <td>64 of 144</td>\n",
       "      <td>75 of 142</td>\n",
       "      <td>174 of 349</td>\n",
       "      <td>90 of 232</td>\n",
       "      <td>12 of 29</td>\n",
       "      <td>94 of 249</td>\n",
       "      <td>...</td>\n",
       "      <td>1 of 1</td>\n",
       "      <td>1 of 1</td>\n",
       "      <td>1 of 2</td>\n",
       "      <td>3 of 9</td>\n",
       "      <td>0 of 0</td>\n",
       "      <td>11 of 17</td>\n",
       "      <td>1 of 1</td>\n",
       "      <td>0 of 3</td>\n",
       "      <td>15 of 27</td>\n",
       "      <td>3 of 5</td>\n",
       "    </tr>\n",
       "    <tr>\n",
       "      <td>B_SIG_STR.</td>\n",
       "      <td>57 of 119</td>\n",
       "      <td>2 of 12</td>\n",
       "      <td>68 of 185</td>\n",
       "      <td>56 of 189</td>\n",
       "      <td>73 of 123</td>\n",
       "      <td>48 of 99</td>\n",
       "      <td>105 of 265</td>\n",
       "      <td>148 of 369</td>\n",
       "      <td>22 of 41</td>\n",
       "      <td>71 of 144</td>\n",
       "      <td>...</td>\n",
       "      <td>1 of 1</td>\n",
       "      <td>0 of 4</td>\n",
       "      <td>0 of 0</td>\n",
       "      <td>1 of 7</td>\n",
       "      <td>0 of 0</td>\n",
       "      <td>0 of 3</td>\n",
       "      <td>4 of 8</td>\n",
       "      <td>0 of 0</td>\n",
       "      <td>12 of 28</td>\n",
       "      <td>0 of 1</td>\n",
       "    </tr>\n",
       "    <tr>\n",
       "      <td>R_SIG_STR_pct</td>\n",
       "      <td>52%</td>\n",
       "      <td>72%</td>\n",
       "      <td>52%</td>\n",
       "      <td>38%</td>\n",
       "      <td>44%</td>\n",
       "      <td>52%</td>\n",
       "      <td>49%</td>\n",
       "      <td>38%</td>\n",
       "      <td>41%</td>\n",
       "      <td>37%</td>\n",
       "      <td>...</td>\n",
       "      <td>100%</td>\n",
       "      <td>100%</td>\n",
       "      <td>50%</td>\n",
       "      <td>33%</td>\n",
       "      <td>0%</td>\n",
       "      <td>64%</td>\n",
       "      <td>100%</td>\n",
       "      <td>0%</td>\n",
       "      <td>55%</td>\n",
       "      <td>60%</td>\n",
       "    </tr>\n",
       "    <tr>\n",
       "      <td>B_SIG_STR_pct</td>\n",
       "      <td>47%</td>\n",
       "      <td>16%</td>\n",
       "      <td>36%</td>\n",
       "      <td>29%</td>\n",
       "      <td>59%</td>\n",
       "      <td>48%</td>\n",
       "      <td>39%</td>\n",
       "      <td>40%</td>\n",
       "      <td>53%</td>\n",
       "      <td>49%</td>\n",
       "      <td>...</td>\n",
       "      <td>100%</td>\n",
       "      <td>0%</td>\n",
       "      <td>0%</td>\n",
       "      <td>14%</td>\n",
       "      <td>0%</td>\n",
       "      <td>0%</td>\n",
       "      <td>50%</td>\n",
       "      <td>0%</td>\n",
       "      <td>42%</td>\n",
       "      <td>0%</td>\n",
       "    </tr>\n",
       "    <tr>\n",
       "      <td>R_TOTAL_STR.</td>\n",
       "      <td>99 of 182</td>\n",
       "      <td>37 of 40</td>\n",
       "      <td>104 of 200</td>\n",
       "      <td>76 of 195</td>\n",
       "      <td>66 of 146</td>\n",
       "      <td>95 of 166</td>\n",
       "      <td>175 of 350</td>\n",
       "      <td>92 of 234</td>\n",
       "      <td>12 of 29</td>\n",
       "      <td>105 of 264</td>\n",
       "      <td>...</td>\n",
       "      <td>1 of 1</td>\n",
       "      <td>2 of 2</td>\n",
       "      <td>3 of 4</td>\n",
       "      <td>3 of 9</td>\n",
       "      <td>12 of 12</td>\n",
       "      <td>11 of 17</td>\n",
       "      <td>4 of 4</td>\n",
       "      <td>4 of 7</td>\n",
       "      <td>38 of 53</td>\n",
       "      <td>3 of 5</td>\n",
       "    </tr>\n",
       "    <tr>\n",
       "      <td>B_TOTAL_STR.</td>\n",
       "      <td>59 of 121</td>\n",
       "      <td>42 of 52</td>\n",
       "      <td>68 of 185</td>\n",
       "      <td>58 of 192</td>\n",
       "      <td>81 of 131</td>\n",
       "      <td>54 of 105</td>\n",
       "      <td>108 of 269</td>\n",
       "      <td>163 of 384</td>\n",
       "      <td>22 of 41</td>\n",
       "      <td>78 of 151</td>\n",
       "      <td>...</td>\n",
       "      <td>2 of 2</td>\n",
       "      <td>1 of 5</td>\n",
       "      <td>0 of 0</td>\n",
       "      <td>1 of 7</td>\n",
       "      <td>0 of 0</td>\n",
       "      <td>0 of 3</td>\n",
       "      <td>16 of 20</td>\n",
       "      <td>0 of 0</td>\n",
       "      <td>13 of 29</td>\n",
       "      <td>0 of 1</td>\n",
       "    </tr>\n",
       "    <tr>\n",
       "      <td>R_TD</td>\n",
       "      <td>1 of 4</td>\n",
       "      <td>2 of 2</td>\n",
       "      <td>0 of 0</td>\n",
       "      <td>0 of 3</td>\n",
       "      <td>0 of 0</td>\n",
       "      <td>4 of 13</td>\n",
       "      <td>0 of 7</td>\n",
       "      <td>0 of 0</td>\n",
       "      <td>0 of 1</td>\n",
       "      <td>1 of 1</td>\n",
       "      <td>...</td>\n",
       "      <td>0 of 1</td>\n",
       "      <td>1 of 1</td>\n",
       "      <td>1 of 3</td>\n",
       "      <td>1 of 2</td>\n",
       "      <td>0 of 1</td>\n",
       "      <td>0 of 0</td>\n",
       "      <td>1 of 2</td>\n",
       "      <td>1 of 1</td>\n",
       "      <td>0 of 0</td>\n",
       "      <td>0 of 0</td>\n",
       "    </tr>\n",
       "    <tr>\n",
       "      <td>B_TD</td>\n",
       "      <td>0 of 2</td>\n",
       "      <td>0 of 0</td>\n",
       "      <td>1 of 1</td>\n",
       "      <td>1 of 3</td>\n",
       "      <td>2 of 2</td>\n",
       "      <td>0 of 0</td>\n",
       "      <td>0 of 0</td>\n",
       "      <td>0 of 0</td>\n",
       "      <td>0 of 0</td>\n",
       "      <td>1 of 3</td>\n",
       "      <td>...</td>\n",
       "      <td>0 of 0</td>\n",
       "      <td>0 of 0</td>\n",
       "      <td>0 of 0</td>\n",
       "      <td>0 of 0</td>\n",
       "      <td>0 of 1</td>\n",
       "      <td>0 of 0</td>\n",
       "      <td>0 of 0</td>\n",
       "      <td>0 of 0</td>\n",
       "      <td>0 of 0</td>\n",
       "      <td>0 of 1</td>\n",
       "    </tr>\n",
       "    <tr>\n",
       "      <td>R_TD_pct</td>\n",
       "      <td>25%</td>\n",
       "      <td>100%</td>\n",
       "      <td>0%</td>\n",
       "      <td>0%</td>\n",
       "      <td>0%</td>\n",
       "      <td>30%</td>\n",
       "      <td>0%</td>\n",
       "      <td>0%</td>\n",
       "      <td>0%</td>\n",
       "      <td>100%</td>\n",
       "      <td>...</td>\n",
       "      <td>0%</td>\n",
       "      <td>100%</td>\n",
       "      <td>33%</td>\n",
       "      <td>50%</td>\n",
       "      <td>0%</td>\n",
       "      <td>0%</td>\n",
       "      <td>50%</td>\n",
       "      <td>100%</td>\n",
       "      <td>0%</td>\n",
       "      <td>0%</td>\n",
       "    </tr>\n",
       "    <tr>\n",
       "      <td>B_TD_pct</td>\n",
       "      <td>0%</td>\n",
       "      <td>0%</td>\n",
       "      <td>100%</td>\n",
       "      <td>33%</td>\n",
       "      <td>100%</td>\n",
       "      <td>0%</td>\n",
       "      <td>0%</td>\n",
       "      <td>0%</td>\n",
       "      <td>0%</td>\n",
       "      <td>33%</td>\n",
       "      <td>...</td>\n",
       "      <td>0%</td>\n",
       "      <td>0%</td>\n",
       "      <td>0%</td>\n",
       "      <td>0%</td>\n",
       "      <td>0%</td>\n",
       "      <td>0%</td>\n",
       "      <td>0%</td>\n",
       "      <td>0%</td>\n",
       "      <td>0%</td>\n",
       "      <td>0%</td>\n",
       "    </tr>\n",
       "    <tr>\n",
       "      <td>R_SUB_ATT</td>\n",
       "      <td>1</td>\n",
       "      <td>1</td>\n",
       "      <td>0</td>\n",
       "      <td>0</td>\n",
       "      <td>0</td>\n",
       "      <td>0</td>\n",
       "      <td>0</td>\n",
       "      <td>0</td>\n",
       "      <td>0</td>\n",
       "      <td>0</td>\n",
       "      <td>...</td>\n",
       "      <td>1</td>\n",
       "      <td>1</td>\n",
       "      <td>1</td>\n",
       "      <td>1</td>\n",
       "      <td>1</td>\n",
       "      <td>0</td>\n",
       "      <td>2</td>\n",
       "      <td>0</td>\n",
       "      <td>0</td>\n",
       "      <td>0</td>\n",
       "    </tr>\n",
       "    <tr>\n",
       "      <td>B_SUB_ATT</td>\n",
       "      <td>0</td>\n",
       "      <td>0</td>\n",
       "      <td>0</td>\n",
       "      <td>0</td>\n",
       "      <td>0</td>\n",
       "      <td>0</td>\n",
       "      <td>0</td>\n",
       "      <td>1</td>\n",
       "      <td>0</td>\n",
       "      <td>1</td>\n",
       "      <td>...</td>\n",
       "      <td>0</td>\n",
       "      <td>0</td>\n",
       "      <td>0</td>\n",
       "      <td>0</td>\n",
       "      <td>0</td>\n",
       "      <td>0</td>\n",
       "      <td>0</td>\n",
       "      <td>0</td>\n",
       "      <td>0</td>\n",
       "      <td>0</td>\n",
       "    </tr>\n",
       "    <tr>\n",
       "      <td>R_PASS</td>\n",
       "      <td>1</td>\n",
       "      <td>3</td>\n",
       "      <td>0</td>\n",
       "      <td>0</td>\n",
       "      <td>0</td>\n",
       "      <td>2</td>\n",
       "      <td>0</td>\n",
       "      <td>0</td>\n",
       "      <td>0</td>\n",
       "      <td>1</td>\n",
       "      <td>...</td>\n",
       "      <td>0</td>\n",
       "      <td>1</td>\n",
       "      <td>2</td>\n",
       "      <td>1</td>\n",
       "      <td>2</td>\n",
       "      <td>0</td>\n",
       "      <td>0</td>\n",
       "      <td>2</td>\n",
       "      <td>0</td>\n",
       "      <td>0</td>\n",
       "    </tr>\n",
       "    <tr>\n",
       "      <td>B_PASS</td>\n",
       "      <td>0</td>\n",
       "      <td>0</td>\n",
       "      <td>0</td>\n",
       "      <td>1</td>\n",
       "      <td>0</td>\n",
       "      <td>0</td>\n",
       "      <td>0</td>\n",
       "      <td>0</td>\n",
       "      <td>0</td>\n",
       "      <td>0</td>\n",
       "      <td>...</td>\n",
       "      <td>0</td>\n",
       "      <td>0</td>\n",
       "      <td>0</td>\n",
       "      <td>0</td>\n",
       "      <td>0</td>\n",
       "      <td>0</td>\n",
       "      <td>0</td>\n",
       "      <td>0</td>\n",
       "      <td>0</td>\n",
       "      <td>0</td>\n",
       "    </tr>\n",
       "    <tr>\n",
       "      <td>R_REV</td>\n",
       "      <td>0</td>\n",
       "      <td>0</td>\n",
       "      <td>0</td>\n",
       "      <td>0</td>\n",
       "      <td>0</td>\n",
       "      <td>0</td>\n",
       "      <td>0</td>\n",
       "      <td>0</td>\n",
       "      <td>0</td>\n",
       "      <td>0</td>\n",
       "      <td>...</td>\n",
       "      <td>0</td>\n",
       "      <td>0</td>\n",
       "      <td>0</td>\n",
       "      <td>0</td>\n",
       "      <td>1</td>\n",
       "      <td>0</td>\n",
       "      <td>0</td>\n",
       "      <td>0</td>\n",
       "      <td>0</td>\n",
       "      <td>0</td>\n",
       "    </tr>\n",
       "    <tr>\n",
       "      <td>B_REV</td>\n",
       "      <td>0</td>\n",
       "      <td>0</td>\n",
       "      <td>0</td>\n",
       "      <td>0</td>\n",
       "      <td>0</td>\n",
       "      <td>0</td>\n",
       "      <td>0</td>\n",
       "      <td>0</td>\n",
       "      <td>0</td>\n",
       "      <td>0</td>\n",
       "      <td>...</td>\n",
       "      <td>0</td>\n",
       "      <td>0</td>\n",
       "      <td>0</td>\n",
       "      <td>0</td>\n",
       "      <td>0</td>\n",
       "      <td>0</td>\n",
       "      <td>0</td>\n",
       "      <td>0</td>\n",
       "      <td>0</td>\n",
       "      <td>0</td>\n",
       "    </tr>\n",
       "    <tr>\n",
       "      <td>R_HEAD</td>\n",
       "      <td>73 of 150</td>\n",
       "      <td>4 of 5</td>\n",
       "      <td>65 of 144</td>\n",
       "      <td>42 of 145</td>\n",
       "      <td>39 of 114</td>\n",
       "      <td>29 of 85</td>\n",
       "      <td>123 of 250</td>\n",
       "      <td>55 of 186</td>\n",
       "      <td>2 of 12</td>\n",
       "      <td>64 of 199</td>\n",
       "      <td>...</td>\n",
       "      <td>0 of 0</td>\n",
       "      <td>1 of 1</td>\n",
       "      <td>1 of 1</td>\n",
       "      <td>3 of 7</td>\n",
       "      <td>0 of 0</td>\n",
       "      <td>7 of 13</td>\n",
       "      <td>1 of 1</td>\n",
       "      <td>0 of 1</td>\n",
       "      <td>12 of 23</td>\n",
       "      <td>3 of 5</td>\n",
       "    </tr>\n",
       "    <tr>\n",
       "      <td>B_HEAD</td>\n",
       "      <td>35 of 89</td>\n",
       "      <td>0 of 7</td>\n",
       "      <td>43 of 152</td>\n",
       "      <td>40 of 166</td>\n",
       "      <td>65 of 114</td>\n",
       "      <td>31 of 66</td>\n",
       "      <td>44 of 159</td>\n",
       "      <td>92 of 289</td>\n",
       "      <td>11 of 28</td>\n",
       "      <td>44 of 110</td>\n",
       "      <td>...</td>\n",
       "      <td>0 of 0</td>\n",
       "      <td>0 of 2</td>\n",
       "      <td>0 of 0</td>\n",
       "      <td>0 of 5</td>\n",
       "      <td>0 of 0</td>\n",
       "      <td>0 of 1</td>\n",
       "      <td>1 of 4</td>\n",
       "      <td>0 of 0</td>\n",
       "      <td>7 of 19</td>\n",
       "      <td>0 of 1</td>\n",
       "    </tr>\n",
       "    <tr>\n",
       "      <td>R_BODY</td>\n",
       "      <td>13 of 16</td>\n",
       "      <td>4 of 6</td>\n",
       "      <td>25 of 37</td>\n",
       "      <td>15 of 24</td>\n",
       "      <td>6 of 7</td>\n",
       "      <td>22 of 29</td>\n",
       "      <td>36 of 73</td>\n",
       "      <td>27 of 33</td>\n",
       "      <td>4 of 5</td>\n",
       "      <td>11 of 22</td>\n",
       "      <td>...</td>\n",
       "      <td>1 of 1</td>\n",
       "      <td>0 of 0</td>\n",
       "      <td>0 of 0</td>\n",
       "      <td>0 of 1</td>\n",
       "      <td>0 of 0</td>\n",
       "      <td>1 of 1</td>\n",
       "      <td>0 of 0</td>\n",
       "      <td>0 of 0</td>\n",
       "      <td>3 of 4</td>\n",
       "      <td>0 of 0</td>\n",
       "    </tr>\n",
       "    <tr>\n",
       "      <td>B_BODY</td>\n",
       "      <td>7 of 8</td>\n",
       "      <td>0 of 2</td>\n",
       "      <td>15 of 23</td>\n",
       "      <td>13 of 19</td>\n",
       "      <td>7 of 8</td>\n",
       "      <td>15 of 26</td>\n",
       "      <td>29 of 64</td>\n",
       "      <td>33 of 46</td>\n",
       "      <td>11 of 13</td>\n",
       "      <td>21 of 26</td>\n",
       "      <td>...</td>\n",
       "      <td>0 of 0</td>\n",
       "      <td>0 of 0</td>\n",
       "      <td>0 of 0</td>\n",
       "      <td>0 of 1</td>\n",
       "      <td>0 of 0</td>\n",
       "      <td>0 of 1</td>\n",
       "      <td>1 of 1</td>\n",
       "      <td>0 of 0</td>\n",
       "      <td>3 of 6</td>\n",
       "      <td>0 of 0</td>\n",
       "    </tr>\n",
       "    <tr>\n",
       "      <td>R_LEG</td>\n",
       "      <td>4 of 5</td>\n",
       "      <td>0 of 0</td>\n",
       "      <td>14 of 19</td>\n",
       "      <td>16 of 23</td>\n",
       "      <td>19 of 23</td>\n",
       "      <td>24 of 28</td>\n",
       "      <td>15 of 26</td>\n",
       "      <td>8 of 13</td>\n",
       "      <td>6 of 12</td>\n",
       "      <td>19 of 28</td>\n",
       "      <td>...</td>\n",
       "      <td>0 of 0</td>\n",
       "      <td>0 of 0</td>\n",
       "      <td>0 of 1</td>\n",
       "      <td>0 of 1</td>\n",
       "      <td>0 of 0</td>\n",
       "      <td>3 of 3</td>\n",
       "      <td>0 of 0</td>\n",
       "      <td>0 of 2</td>\n",
       "      <td>0 of 0</td>\n",
       "      <td>0 of 0</td>\n",
       "    </tr>\n",
       "    <tr>\n",
       "      <td>B_LEG</td>\n",
       "      <td>15 of 22</td>\n",
       "      <td>2 of 3</td>\n",
       "      <td>10 of 10</td>\n",
       "      <td>3 of 4</td>\n",
       "      <td>1 of 1</td>\n",
       "      <td>2 of 7</td>\n",
       "      <td>32 of 42</td>\n",
       "      <td>23 of 34</td>\n",
       "      <td>0 of 0</td>\n",
       "      <td>6 of 8</td>\n",
       "      <td>...</td>\n",
       "      <td>1 of 1</td>\n",
       "      <td>0 of 2</td>\n",
       "      <td>0 of 0</td>\n",
       "      <td>1 of 1</td>\n",
       "      <td>0 of 0</td>\n",
       "      <td>0 of 1</td>\n",
       "      <td>2 of 3</td>\n",
       "      <td>0 of 0</td>\n",
       "      <td>2 of 3</td>\n",
       "      <td>0 of 0</td>\n",
       "    </tr>\n",
       "    <tr>\n",
       "      <td>R_DISTANCE</td>\n",
       "      <td>45 of 118</td>\n",
       "      <td>5 of 8</td>\n",
       "      <td>103 of 198</td>\n",
       "      <td>60 of 173</td>\n",
       "      <td>50 of 126</td>\n",
       "      <td>42 of 100</td>\n",
       "      <td>172 of 338</td>\n",
       "      <td>79 of 217</td>\n",
       "      <td>12 of 29</td>\n",
       "      <td>83 of 229</td>\n",
       "      <td>...</td>\n",
       "      <td>0 of 0</td>\n",
       "      <td>0 of 0</td>\n",
       "      <td>0 of 1</td>\n",
       "      <td>3 of 9</td>\n",
       "      <td>0 of 0</td>\n",
       "      <td>5 of 8</td>\n",
       "      <td>0 of 0</td>\n",
       "      <td>0 of 3</td>\n",
       "      <td>4 of 10</td>\n",
       "      <td>1 of 3</td>\n",
       "    </tr>\n",
       "    <tr>\n",
       "      <td>B_DISTANCE</td>\n",
       "      <td>54 of 116</td>\n",
       "      <td>2 of 12</td>\n",
       "      <td>68 of 184</td>\n",
       "      <td>42 of 167</td>\n",
       "      <td>62 of 111</td>\n",
       "      <td>39 of 89</td>\n",
       "      <td>102 of 257</td>\n",
       "      <td>123 of 339</td>\n",
       "      <td>16 of 34</td>\n",
       "      <td>56 of 127</td>\n",
       "      <td>...</td>\n",
       "      <td>1 of 1</td>\n",
       "      <td>0 of 3</td>\n",
       "      <td>0 of 0</td>\n",
       "      <td>1 of 7</td>\n",
       "      <td>0 of 0</td>\n",
       "      <td>0 of 3</td>\n",
       "      <td>1 of 1</td>\n",
       "      <td>0 of 0</td>\n",
       "      <td>0 of 7</td>\n",
       "      <td>0 of 1</td>\n",
       "    </tr>\n",
       "    <tr>\n",
       "      <td>R_CLINCH</td>\n",
       "      <td>19 of 23</td>\n",
       "      <td>2 of 2</td>\n",
       "      <td>1 of 2</td>\n",
       "      <td>9 of 15</td>\n",
       "      <td>14 of 18</td>\n",
       "      <td>7 of 7</td>\n",
       "      <td>2 of 11</td>\n",
       "      <td>11 of 15</td>\n",
       "      <td>0 of 0</td>\n",
       "      <td>8 of 17</td>\n",
       "      <td>...</td>\n",
       "      <td>1 of 1</td>\n",
       "      <td>1 of 1</td>\n",
       "      <td>0 of 0</td>\n",
       "      <td>0 of 0</td>\n",
       "      <td>0 of 0</td>\n",
       "      <td>0 of 0</td>\n",
       "      <td>0 of 0</td>\n",
       "      <td>0 of 0</td>\n",
       "      <td>4 of 9</td>\n",
       "      <td>0 of 0</td>\n",
       "    </tr>\n",
       "    <tr>\n",
       "      <td>B_CLINCH</td>\n",
       "      <td>2 of 2</td>\n",
       "      <td>0 of 0</td>\n",
       "      <td>0 of 1</td>\n",
       "      <td>10 of 12</td>\n",
       "      <td>5 of 6</td>\n",
       "      <td>4 of 5</td>\n",
       "      <td>3 of 8</td>\n",
       "      <td>25 of 30</td>\n",
       "      <td>2 of 2</td>\n",
       "      <td>13 of 15</td>\n",
       "      <td>...</td>\n",
       "      <td>0 of 0</td>\n",
       "      <td>0 of 1</td>\n",
       "      <td>0 of 0</td>\n",
       "      <td>0 of 0</td>\n",
       "      <td>0 of 0</td>\n",
       "      <td>0 of 0</td>\n",
       "      <td>1 of 1</td>\n",
       "      <td>0 of 0</td>\n",
       "      <td>10 of 19</td>\n",
       "      <td>0 of 0</td>\n",
       "    </tr>\n",
       "    <tr>\n",
       "      <td>R_GROUND</td>\n",
       "      <td>26 of 30</td>\n",
       "      <td>1 of 1</td>\n",
       "      <td>0 of 0</td>\n",
       "      <td>4 of 4</td>\n",
       "      <td>0 of 0</td>\n",
       "      <td>26 of 35</td>\n",
       "      <td>0 of 0</td>\n",
       "      <td>0 of 0</td>\n",
       "      <td>0 of 0</td>\n",
       "      <td>3 of 3</td>\n",
       "      <td>...</td>\n",
       "      <td>0 of 0</td>\n",
       "      <td>0 of 0</td>\n",
       "      <td>1 of 1</td>\n",
       "      <td>0 of 0</td>\n",
       "      <td>0 of 0</td>\n",
       "      <td>6 of 9</td>\n",
       "      <td>1 of 1</td>\n",
       "      <td>0 of 0</td>\n",
       "      <td>7 of 8</td>\n",
       "      <td>2 of 2</td>\n",
       "    </tr>\n",
       "    <tr>\n",
       "      <td>B_GROUND</td>\n",
       "      <td>1 of 1</td>\n",
       "      <td>0 of 0</td>\n",
       "      <td>0 of 0</td>\n",
       "      <td>4 of 10</td>\n",
       "      <td>6 of 6</td>\n",
       "      <td>5 of 5</td>\n",
       "      <td>0 of 0</td>\n",
       "      <td>0 of 0</td>\n",
       "      <td>4 of 5</td>\n",
       "      <td>2 of 2</td>\n",
       "      <td>...</td>\n",
       "      <td>0 of 0</td>\n",
       "      <td>0 of 0</td>\n",
       "      <td>0 of 0</td>\n",
       "      <td>0 of 0</td>\n",
       "      <td>0 of 0</td>\n",
       "      <td>0 of 0</td>\n",
       "      <td>2 of 6</td>\n",
       "      <td>0 of 0</td>\n",
       "      <td>2 of 2</td>\n",
       "      <td>0 of 0</td>\n",
       "    </tr>\n",
       "    <tr>\n",
       "      <td>win_by</td>\n",
       "      <td>KO/TKO</td>\n",
       "      <td>KO/TKO</td>\n",
       "      <td>TKO - Doctor's Stoppage</td>\n",
       "      <td>Decision - Unanimous</td>\n",
       "      <td>Decision - Unanimous</td>\n",
       "      <td>Decision - Unanimous</td>\n",
       "      <td>Decision - Unanimous</td>\n",
       "      <td>Decision - Unanimous</td>\n",
       "      <td>KO/TKO</td>\n",
       "      <td>Decision - Unanimous</td>\n",
       "      <td>...</td>\n",
       "      <td>Submission</td>\n",
       "      <td>Submission</td>\n",
       "      <td>Submission</td>\n",
       "      <td>Submission</td>\n",
       "      <td>Submission</td>\n",
       "      <td>KO/TKO</td>\n",
       "      <td>Submission</td>\n",
       "      <td>Submission</td>\n",
       "      <td>KO/TKO</td>\n",
       "      <td>KO/TKO</td>\n",
       "    </tr>\n",
       "    <tr>\n",
       "      <td>last_round</td>\n",
       "      <td>3</td>\n",
       "      <td>2</td>\n",
       "      <td>2</td>\n",
       "      <td>3</td>\n",
       "      <td>3</td>\n",
       "      <td>3</td>\n",
       "      <td>3</td>\n",
       "      <td>3</td>\n",
       "      <td>1</td>\n",
       "      <td>3</td>\n",
       "      <td>...</td>\n",
       "      <td>1</td>\n",
       "      <td>1</td>\n",
       "      <td>1</td>\n",
       "      <td>1</td>\n",
       "      <td>1</td>\n",
       "      <td>1</td>\n",
       "      <td>1</td>\n",
       "      <td>1</td>\n",
       "      <td>1</td>\n",
       "      <td>1</td>\n",
       "    </tr>\n",
       "    <tr>\n",
       "      <td>last_round_time</td>\n",
       "      <td>4:51</td>\n",
       "      <td>0:26</td>\n",
       "      <td>5:00</td>\n",
       "      <td>5:00</td>\n",
       "      <td>5:00</td>\n",
       "      <td>5:00</td>\n",
       "      <td>5:00</td>\n",
       "      <td>5:00</td>\n",
       "      <td>4:06</td>\n",
       "      <td>5:00</td>\n",
       "      <td>...</td>\n",
       "      <td>0:58</td>\n",
       "      <td>0:20</td>\n",
       "      <td>1:44</td>\n",
       "      <td>0:52</td>\n",
       "      <td>0:57</td>\n",
       "      <td>0:59</td>\n",
       "      <td>1:49</td>\n",
       "      <td>2:18</td>\n",
       "      <td>4:20</td>\n",
       "      <td>0:26</td>\n",
       "    </tr>\n",
       "    <tr>\n",
       "      <td>Format</td>\n",
       "      <td>5 Rnd (5-5-5-5-5)</td>\n",
       "      <td>5 Rnd (5-5-5-5-5)</td>\n",
       "      <td>3 Rnd (5-5-5)</td>\n",
       "      <td>3 Rnd (5-5-5)</td>\n",
       "      <td>3 Rnd (5-5-5)</td>\n",
       "      <td>3 Rnd (5-5-5)</td>\n",
       "      <td>3 Rnd (5-5-5)</td>\n",
       "      <td>3 Rnd (5-5-5)</td>\n",
       "      <td>3 Rnd (5-5-5)</td>\n",
       "      <td>3 Rnd (5-5-5)</td>\n",
       "      <td>...</td>\n",
       "      <td>No Time Limit</td>\n",
       "      <td>No Time Limit</td>\n",
       "      <td>No Time Limit</td>\n",
       "      <td>No Time Limit</td>\n",
       "      <td>No Time Limit</td>\n",
       "      <td>No Time Limit</td>\n",
       "      <td>No Time Limit</td>\n",
       "      <td>No Time Limit</td>\n",
       "      <td>No Time Limit</td>\n",
       "      <td>No Time Limit</td>\n",
       "    </tr>\n",
       "    <tr>\n",
       "      <td>Referee</td>\n",
       "      <td>Marc Goddard</td>\n",
       "      <td>Robert Madrigal</td>\n",
       "      <td>Dan Miragliotta</td>\n",
       "      <td>Kevin MacDonald</td>\n",
       "      <td>Dan Miragliotta</td>\n",
       "      <td>Robert Madrigal</td>\n",
       "      <td>Marc Goddard</td>\n",
       "      <td>Kevin MacDonald</td>\n",
       "      <td>Dan Miragliotta</td>\n",
       "      <td>Robert Madrigal</td>\n",
       "      <td>...</td>\n",
       "      <td>John McCarthy</td>\n",
       "      <td>John McCarthy</td>\n",
       "      <td>Joao Alberto Barreto</td>\n",
       "      <td>Joao Alberto Barreto</td>\n",
       "      <td>Joao Alberto Barreto</td>\n",
       "      <td>Joao Alberto Barreto</td>\n",
       "      <td>Joao Alberto Barreto</td>\n",
       "      <td>Joao Alberto Barreto</td>\n",
       "      <td>Joao Alberto Barreto</td>\n",
       "      <td>Joao Alberto Barreto</td>\n",
       "    </tr>\n",
       "    <tr>\n",
       "      <td>date</td>\n",
       "      <td>June 08, 2019</td>\n",
       "      <td>June 08, 2019</td>\n",
       "      <td>June 08, 2019</td>\n",
       "      <td>June 08, 2019</td>\n",
       "      <td>June 08, 2019</td>\n",
       "      <td>June 08, 2019</td>\n",
       "      <td>June 08, 2019</td>\n",
       "      <td>June 08, 2019</td>\n",
       "      <td>June 08, 2019</td>\n",
       "      <td>June 08, 2019</td>\n",
       "      <td>...</td>\n",
       "      <td>March 11, 1994</td>\n",
       "      <td>March 11, 1994</td>\n",
       "      <td>November 12, 1993</td>\n",
       "      <td>November 12, 1993</td>\n",
       "      <td>November 12, 1993</td>\n",
       "      <td>November 12, 1993</td>\n",
       "      <td>November 12, 1993</td>\n",
       "      <td>November 12, 1993</td>\n",
       "      <td>November 12, 1993</td>\n",
       "      <td>November 12, 1993</td>\n",
       "    </tr>\n",
       "    <tr>\n",
       "      <td>location</td>\n",
       "      <td>Chicago, Illinois, USA</td>\n",
       "      <td>Chicago, Illinois, USA</td>\n",
       "      <td>Chicago, Illinois, USA</td>\n",
       "      <td>Chicago, Illinois, USA</td>\n",
       "      <td>Chicago, Illinois, USA</td>\n",
       "      <td>Chicago, Illinois, USA</td>\n",
       "      <td>Chicago, Illinois, USA</td>\n",
       "      <td>Chicago, Illinois, USA</td>\n",
       "      <td>Chicago, Illinois, USA</td>\n",
       "      <td>Chicago, Illinois, USA</td>\n",
       "      <td>...</td>\n",
       "      <td>Denver, Colorado, USA</td>\n",
       "      <td>Denver, Colorado, USA</td>\n",
       "      <td>Denver, Colorado, USA</td>\n",
       "      <td>Denver, Colorado, USA</td>\n",
       "      <td>Denver, Colorado, USA</td>\n",
       "      <td>Denver, Colorado, USA</td>\n",
       "      <td>Denver, Colorado, USA</td>\n",
       "      <td>Denver, Colorado, USA</td>\n",
       "      <td>Denver, Colorado, USA</td>\n",
       "      <td>Denver, Colorado, USA</td>\n",
       "    </tr>\n",
       "    <tr>\n",
       "      <td>Fight_type</td>\n",
       "      <td>UFC Bantamweight Title Bout</td>\n",
       "      <td>UFC Women's Flyweight Title Bout</td>\n",
       "      <td>Lightweight Bout</td>\n",
       "      <td>Bantamweight Bout</td>\n",
       "      <td>Heavyweight Bout</td>\n",
       "      <td>Women's Strawweight Bout</td>\n",
       "      <td>Bantamweight Bout</td>\n",
       "      <td>Women's Strawweight Bout</td>\n",
       "      <td>Featherweight Bout</td>\n",
       "      <td>Women's Strawweight Bout</td>\n",
       "      <td>...</td>\n",
       "      <td>Open Weight Bout</td>\n",
       "      <td>Open Weight Bout</td>\n",
       "      <td>UFC 1 Tournament Title Bout</td>\n",
       "      <td>Open Weight Bout</td>\n",
       "      <td>Open Weight Bout</td>\n",
       "      <td>Open Weight Bout</td>\n",
       "      <td>Open Weight Bout</td>\n",
       "      <td>Open Weight Bout</td>\n",
       "      <td>Open Weight Bout</td>\n",
       "      <td>Open Weight Bout</td>\n",
       "    </tr>\n",
       "    <tr>\n",
       "      <td>Winner</td>\n",
       "      <td>Henry Cejudo</td>\n",
       "      <td>Valentina Shevchenko</td>\n",
       "      <td>Tony Ferguson</td>\n",
       "      <td>Petr Yan</td>\n",
       "      <td>Blagoy Ivanov</td>\n",
       "      <td>Tatiana Suarez</td>\n",
       "      <td>Aljamain Sterling</td>\n",
       "      <td>Alexa Grasso</td>\n",
       "      <td>Calvin Kattar</td>\n",
       "      <td>Yan Xiaonan</td>\n",
       "      <td>...</td>\n",
       "      <td>Patrick Smith</td>\n",
       "      <td>Scott Morris</td>\n",
       "      <td>Royce Gracie</td>\n",
       "      <td>Jason DeLucia</td>\n",
       "      <td>Royce Gracie</td>\n",
       "      <td>Gerard Gordeau</td>\n",
       "      <td>Ken Shamrock</td>\n",
       "      <td>Royce Gracie</td>\n",
       "      <td>Kevin Rosier</td>\n",
       "      <td>Gerard Gordeau</td>\n",
       "    </tr>\n",
       "  </tbody>\n",
       "</table>\n",
       "<p>41 rows × 5144 columns</p>\n",
       "</div>"
      ],
      "text/plain": [
       "                                        0     \\\n",
       "R_fighter                       Henry Cejudo   \n",
       "B_fighter                      Marlon Moraes   \n",
       "R_KD                                       0   \n",
       "B_KD                                       0   \n",
       "R_SIG_STR.                         90 of 171   \n",
       "B_SIG_STR.                         57 of 119   \n",
       "R_SIG_STR_pct                            52%   \n",
       "B_SIG_STR_pct                            47%   \n",
       "R_TOTAL_STR.                       99 of 182   \n",
       "B_TOTAL_STR.                       59 of 121   \n",
       "R_TD                                  1 of 4   \n",
       "B_TD                                  0 of 2   \n",
       "R_TD_pct                                 25%   \n",
       "B_TD_pct                                  0%   \n",
       "R_SUB_ATT                                  1   \n",
       "B_SUB_ATT                                  0   \n",
       "R_PASS                                     1   \n",
       "B_PASS                                     0   \n",
       "R_REV                                      0   \n",
       "B_REV                                      0   \n",
       "R_HEAD                             73 of 150   \n",
       "B_HEAD                              35 of 89   \n",
       "R_BODY                              13 of 16   \n",
       "B_BODY                                7 of 8   \n",
       "R_LEG                                 4 of 5   \n",
       "B_LEG                               15 of 22   \n",
       "R_DISTANCE                         45 of 118   \n",
       "B_DISTANCE                         54 of 116   \n",
       "R_CLINCH                            19 of 23   \n",
       "B_CLINCH                              2 of 2   \n",
       "R_GROUND                            26 of 30   \n",
       "B_GROUND                              1 of 1   \n",
       "win_by                                KO/TKO   \n",
       "last_round                                 3   \n",
       "last_round_time                         4:51   \n",
       "Format                     5 Rnd (5-5-5-5-5)   \n",
       "Referee                         Marc Goddard   \n",
       "date                           June 08, 2019   \n",
       "location              Chicago, Illinois, USA   \n",
       "Fight_type       UFC Bantamweight Title Bout   \n",
       "Winner                          Henry Cejudo   \n",
       "\n",
       "                                             1                        2     \\\n",
       "R_fighter                    Valentina Shevchenko            Tony Ferguson   \n",
       "B_fighter                             Jessica Eye           Donald Cerrone   \n",
       "R_KD                                            1                        0   \n",
       "B_KD                                            0                        0   \n",
       "R_SIG_STR.                                8 of 11               104 of 200   \n",
       "B_SIG_STR.                                2 of 12                68 of 185   \n",
       "R_SIG_STR_pct                                 72%                      52%   \n",
       "B_SIG_STR_pct                                 16%                      36%   \n",
       "R_TOTAL_STR.                             37 of 40               104 of 200   \n",
       "B_TOTAL_STR.                             42 of 52                68 of 185   \n",
       "R_TD                                       2 of 2                   0 of 0   \n",
       "B_TD                                       0 of 0                   1 of 1   \n",
       "R_TD_pct                                     100%                       0%   \n",
       "B_TD_pct                                       0%                     100%   \n",
       "R_SUB_ATT                                       1                        0   \n",
       "B_SUB_ATT                                       0                        0   \n",
       "R_PASS                                          3                        0   \n",
       "B_PASS                                          0                        0   \n",
       "R_REV                                           0                        0   \n",
       "B_REV                                           0                        0   \n",
       "R_HEAD                                     4 of 5                65 of 144   \n",
       "B_HEAD                                     0 of 7                43 of 152   \n",
       "R_BODY                                     4 of 6                 25 of 37   \n",
       "B_BODY                                     0 of 2                 15 of 23   \n",
       "R_LEG                                      0 of 0                 14 of 19   \n",
       "B_LEG                                      2 of 3                 10 of 10   \n",
       "R_DISTANCE                                 5 of 8               103 of 198   \n",
       "B_DISTANCE                                2 of 12                68 of 184   \n",
       "R_CLINCH                                   2 of 2                   1 of 2   \n",
       "B_CLINCH                                   0 of 0                   0 of 1   \n",
       "R_GROUND                                   1 of 1                   0 of 0   \n",
       "B_GROUND                                   0 of 0                   0 of 0   \n",
       "win_by                                     KO/TKO  TKO - Doctor's Stoppage   \n",
       "last_round                                      2                        2   \n",
       "last_round_time                              0:26                     5:00   \n",
       "Format                          5 Rnd (5-5-5-5-5)            3 Rnd (5-5-5)   \n",
       "Referee                           Robert Madrigal          Dan Miragliotta   \n",
       "date                                June 08, 2019            June 08, 2019   \n",
       "location                   Chicago, Illinois, USA   Chicago, Illinois, USA   \n",
       "Fight_type       UFC Women's Flyweight Title Bout         Lightweight Bout   \n",
       "Winner                       Valentina Shevchenko            Tony Ferguson   \n",
       "\n",
       "                                   3                       4     \\\n",
       "R_fighter                 Jimmie Rivera             Tai Tuivasa   \n",
       "B_fighter                      Petr Yan           Blagoy Ivanov   \n",
       "R_KD                                  0                       0   \n",
       "B_KD                                  2                       1   \n",
       "R_SIG_STR.                    73 of 192               64 of 144   \n",
       "B_SIG_STR.                    56 of 189               73 of 123   \n",
       "R_SIG_STR_pct                       38%                     44%   \n",
       "B_SIG_STR_pct                       29%                     59%   \n",
       "R_TOTAL_STR.                  76 of 195               66 of 146   \n",
       "B_TOTAL_STR.                  58 of 192               81 of 131   \n",
       "R_TD                             0 of 3                  0 of 0   \n",
       "B_TD                             1 of 3                  2 of 2   \n",
       "R_TD_pct                             0%                      0%   \n",
       "B_TD_pct                            33%                    100%   \n",
       "R_SUB_ATT                             0                       0   \n",
       "B_SUB_ATT                             0                       0   \n",
       "R_PASS                                0                       0   \n",
       "B_PASS                                1                       0   \n",
       "R_REV                                 0                       0   \n",
       "B_REV                                 0                       0   \n",
       "R_HEAD                        42 of 145               39 of 114   \n",
       "B_HEAD                        40 of 166               65 of 114   \n",
       "R_BODY                         15 of 24                  6 of 7   \n",
       "B_BODY                         13 of 19                  7 of 8   \n",
       "R_LEG                          16 of 23                19 of 23   \n",
       "B_LEG                            3 of 4                  1 of 1   \n",
       "R_DISTANCE                    60 of 173               50 of 126   \n",
       "B_DISTANCE                    42 of 167               62 of 111   \n",
       "R_CLINCH                        9 of 15                14 of 18   \n",
       "B_CLINCH                       10 of 12                  5 of 6   \n",
       "R_GROUND                         4 of 4                  0 of 0   \n",
       "B_GROUND                        4 of 10                  6 of 6   \n",
       "win_by             Decision - Unanimous    Decision - Unanimous   \n",
       "last_round                            3                       3   \n",
       "last_round_time                    5:00                    5:00   \n",
       "Format                    3 Rnd (5-5-5)           3 Rnd (5-5-5)   \n",
       "Referee                 Kevin MacDonald         Dan Miragliotta   \n",
       "date                      June 08, 2019           June 08, 2019   \n",
       "location         Chicago, Illinois, USA  Chicago, Illinois, USA   \n",
       "Fight_type            Bantamweight Bout        Heavyweight Bout   \n",
       "Winner                         Petr Yan           Blagoy Ivanov   \n",
       "\n",
       "                                     5                       6     \\\n",
       "R_fighter                  Tatiana Suarez       Aljamain Sterling   \n",
       "B_fighter                   Nina Ansaroff            Pedro Munhoz   \n",
       "R_KD                                    0                       0   \n",
       "B_KD                                    0                       0   \n",
       "R_SIG_STR.                      75 of 142              174 of 349   \n",
       "B_SIG_STR.                       48 of 99              105 of 265   \n",
       "R_SIG_STR_pct                         52%                     49%   \n",
       "B_SIG_STR_pct                         48%                     39%   \n",
       "R_TOTAL_STR.                    95 of 166              175 of 350   \n",
       "B_TOTAL_STR.                    54 of 105              108 of 269   \n",
       "R_TD                              4 of 13                  0 of 7   \n",
       "B_TD                               0 of 0                  0 of 0   \n",
       "R_TD_pct                              30%                      0%   \n",
       "B_TD_pct                               0%                      0%   \n",
       "R_SUB_ATT                               0                       0   \n",
       "B_SUB_ATT                               0                       0   \n",
       "R_PASS                                  2                       0   \n",
       "B_PASS                                  0                       0   \n",
       "R_REV                                   0                       0   \n",
       "B_REV                                   0                       0   \n",
       "R_HEAD                           29 of 85              123 of 250   \n",
       "B_HEAD                           31 of 66               44 of 159   \n",
       "R_BODY                           22 of 29                36 of 73   \n",
       "B_BODY                           15 of 26                29 of 64   \n",
       "R_LEG                            24 of 28                15 of 26   \n",
       "B_LEG                              2 of 7                32 of 42   \n",
       "R_DISTANCE                      42 of 100              172 of 338   \n",
       "B_DISTANCE                       39 of 89              102 of 257   \n",
       "R_CLINCH                           7 of 7                 2 of 11   \n",
       "B_CLINCH                           4 of 5                  3 of 8   \n",
       "R_GROUND                         26 of 35                  0 of 0   \n",
       "B_GROUND                           5 of 5                  0 of 0   \n",
       "win_by               Decision - Unanimous    Decision - Unanimous   \n",
       "last_round                              3                       3   \n",
       "last_round_time                      5:00                    5:00   \n",
       "Format                      3 Rnd (5-5-5)           3 Rnd (5-5-5)   \n",
       "Referee                   Robert Madrigal            Marc Goddard   \n",
       "date                        June 08, 2019           June 08, 2019   \n",
       "location           Chicago, Illinois, USA  Chicago, Illinois, USA   \n",
       "Fight_type       Women's Strawweight Bout       Bantamweight Bout   \n",
       "Winner                     Tatiana Suarez       Aljamain Sterling   \n",
       "\n",
       "                                     7                       8     \\\n",
       "R_fighter           Karolina Kowalkiewicz           Ricardo Lamas   \n",
       "B_fighter                    Alexa Grasso           Calvin Kattar   \n",
       "R_KD                                    0                       0   \n",
       "B_KD                                    0                       1   \n",
       "R_SIG_STR.                      90 of 232                12 of 29   \n",
       "B_SIG_STR.                     148 of 369                22 of 41   \n",
       "R_SIG_STR_pct                         38%                     41%   \n",
       "B_SIG_STR_pct                         40%                     53%   \n",
       "R_TOTAL_STR.                    92 of 234                12 of 29   \n",
       "B_TOTAL_STR.                   163 of 384                22 of 41   \n",
       "R_TD                               0 of 0                  0 of 1   \n",
       "B_TD                               0 of 0                  0 of 0   \n",
       "R_TD_pct                               0%                      0%   \n",
       "B_TD_pct                               0%                      0%   \n",
       "R_SUB_ATT                               0                       0   \n",
       "B_SUB_ATT                               1                       0   \n",
       "R_PASS                                  0                       0   \n",
       "B_PASS                                  0                       0   \n",
       "R_REV                                   0                       0   \n",
       "B_REV                                   0                       0   \n",
       "R_HEAD                          55 of 186                 2 of 12   \n",
       "B_HEAD                          92 of 289                11 of 28   \n",
       "R_BODY                           27 of 33                  4 of 5   \n",
       "B_BODY                           33 of 46                11 of 13   \n",
       "R_LEG                             8 of 13                 6 of 12   \n",
       "B_LEG                            23 of 34                  0 of 0   \n",
       "R_DISTANCE                      79 of 217                12 of 29   \n",
       "B_DISTANCE                     123 of 339                16 of 34   \n",
       "R_CLINCH                         11 of 15                  0 of 0   \n",
       "B_CLINCH                         25 of 30                  2 of 2   \n",
       "R_GROUND                           0 of 0                  0 of 0   \n",
       "B_GROUND                           0 of 0                  4 of 5   \n",
       "win_by               Decision - Unanimous                  KO/TKO   \n",
       "last_round                              3                       1   \n",
       "last_round_time                      5:00                    4:06   \n",
       "Format                      3 Rnd (5-5-5)           3 Rnd (5-5-5)   \n",
       "Referee                   Kevin MacDonald         Dan Miragliotta   \n",
       "date                        June 08, 2019           June 08, 2019   \n",
       "location           Chicago, Illinois, USA  Chicago, Illinois, USA   \n",
       "Fight_type       Women's Strawweight Bout      Featherweight Bout   \n",
       "Winner                       Alexa Grasso           Calvin Kattar   \n",
       "\n",
       "                                     9     ...                   5134  \\\n",
       "R_fighter                     Yan Xiaonan  ...          Patrick Smith   \n",
       "B_fighter                     Angela Hill  ...             Ray Wizard   \n",
       "R_KD                                    0  ...                      0   \n",
       "B_KD                                    0  ...                      0   \n",
       "R_SIG_STR.                      94 of 249  ...                 1 of 1   \n",
       "B_SIG_STR.                      71 of 144  ...                 1 of 1   \n",
       "R_SIG_STR_pct                         37%  ...                   100%   \n",
       "B_SIG_STR_pct                         49%  ...                   100%   \n",
       "R_TOTAL_STR.                   105 of 264  ...                 1 of 1   \n",
       "B_TOTAL_STR.                    78 of 151  ...                 2 of 2   \n",
       "R_TD                               1 of 1  ...                 0 of 1   \n",
       "B_TD                               1 of 3  ...                 0 of 0   \n",
       "R_TD_pct                             100%  ...                     0%   \n",
       "B_TD_pct                              33%  ...                     0%   \n",
       "R_SUB_ATT                               0  ...                      1   \n",
       "B_SUB_ATT                               1  ...                      0   \n",
       "R_PASS                                  1  ...                      0   \n",
       "B_PASS                                  0  ...                      0   \n",
       "R_REV                                   0  ...                      0   \n",
       "B_REV                                   0  ...                      0   \n",
       "R_HEAD                          64 of 199  ...                 0 of 0   \n",
       "B_HEAD                          44 of 110  ...                 0 of 0   \n",
       "R_BODY                           11 of 22  ...                 1 of 1   \n",
       "B_BODY                           21 of 26  ...                 0 of 0   \n",
       "R_LEG                            19 of 28  ...                 0 of 0   \n",
       "B_LEG                              6 of 8  ...                 1 of 1   \n",
       "R_DISTANCE                      83 of 229  ...                 0 of 0   \n",
       "B_DISTANCE                      56 of 127  ...                 1 of 1   \n",
       "R_CLINCH                          8 of 17  ...                 1 of 1   \n",
       "B_CLINCH                         13 of 15  ...                 0 of 0   \n",
       "R_GROUND                           3 of 3  ...                 0 of 0   \n",
       "B_GROUND                           2 of 2  ...                 0 of 0   \n",
       "win_by               Decision - Unanimous  ...             Submission   \n",
       "last_round                              3  ...                      1   \n",
       "last_round_time                      5:00  ...                   0:58   \n",
       "Format                      3 Rnd (5-5-5)  ...          No Time Limit   \n",
       "Referee                   Robert Madrigal  ...          John McCarthy   \n",
       "date                        June 08, 2019  ...         March 11, 1994   \n",
       "location           Chicago, Illinois, USA  ...  Denver, Colorado, USA   \n",
       "Fight_type       Women's Strawweight Bout  ...       Open Weight Bout   \n",
       "Winner                        Yan Xiaonan  ...          Patrick Smith   \n",
       "\n",
       "                                  5135                         5136  \\\n",
       "R_fighter                 Scott Morris                 Royce Gracie   \n",
       "B_fighter               Sean Daugherty               Gerard Gordeau   \n",
       "R_KD                                 0                            0   \n",
       "B_KD                                 0                            0   \n",
       "R_SIG_STR.                      1 of 1                       1 of 2   \n",
       "B_SIG_STR.                      0 of 4                       0 of 0   \n",
       "R_SIG_STR_pct                     100%                          50%   \n",
       "B_SIG_STR_pct                       0%                           0%   \n",
       "R_TOTAL_STR.                    2 of 2                       3 of 4   \n",
       "B_TOTAL_STR.                    1 of 5                       0 of 0   \n",
       "R_TD                            1 of 1                       1 of 3   \n",
       "B_TD                            0 of 0                       0 of 0   \n",
       "R_TD_pct                          100%                          33%   \n",
       "B_TD_pct                            0%                           0%   \n",
       "R_SUB_ATT                            1                            1   \n",
       "B_SUB_ATT                            0                            0   \n",
       "R_PASS                               1                            2   \n",
       "B_PASS                               0                            0   \n",
       "R_REV                                0                            0   \n",
       "B_REV                                0                            0   \n",
       "R_HEAD                          1 of 1                       1 of 1   \n",
       "B_HEAD                          0 of 2                       0 of 0   \n",
       "R_BODY                          0 of 0                       0 of 0   \n",
       "B_BODY                          0 of 0                       0 of 0   \n",
       "R_LEG                           0 of 0                       0 of 1   \n",
       "B_LEG                           0 of 2                       0 of 0   \n",
       "R_DISTANCE                      0 of 0                       0 of 1   \n",
       "B_DISTANCE                      0 of 3                       0 of 0   \n",
       "R_CLINCH                        1 of 1                       0 of 0   \n",
       "B_CLINCH                        0 of 1                       0 of 0   \n",
       "R_GROUND                        0 of 0                       1 of 1   \n",
       "B_GROUND                        0 of 0                       0 of 0   \n",
       "win_by                      Submission                   Submission   \n",
       "last_round                           1                            1   \n",
       "last_round_time                   0:20                         1:44   \n",
       "Format                   No Time Limit                No Time Limit   \n",
       "Referee                  John McCarthy         Joao Alberto Barreto   \n",
       "date                    March 11, 1994            November 12, 1993   \n",
       "location         Denver, Colorado, USA        Denver, Colorado, USA   \n",
       "Fight_type            Open Weight Bout  UFC 1 Tournament Title Bout   \n",
       "Winner                    Scott Morris                 Royce Gracie   \n",
       "\n",
       "                                  5137                   5138  \\\n",
       "R_fighter                Jason DeLucia           Royce Gracie   \n",
       "B_fighter                Trent Jenkins           Ken Shamrock   \n",
       "R_KD                                 0                      0   \n",
       "B_KD                                 0                      0   \n",
       "R_SIG_STR.                      3 of 9                 0 of 0   \n",
       "B_SIG_STR.                      1 of 7                 0 of 0   \n",
       "R_SIG_STR_pct                      33%                     0%   \n",
       "B_SIG_STR_pct                      14%                     0%   \n",
       "R_TOTAL_STR.                    3 of 9               12 of 12   \n",
       "B_TOTAL_STR.                    1 of 7                 0 of 0   \n",
       "R_TD                            1 of 2                 0 of 1   \n",
       "B_TD                            0 of 0                 0 of 1   \n",
       "R_TD_pct                           50%                     0%   \n",
       "B_TD_pct                            0%                     0%   \n",
       "R_SUB_ATT                            1                      1   \n",
       "B_SUB_ATT                            0                      0   \n",
       "R_PASS                               1                      2   \n",
       "B_PASS                               0                      0   \n",
       "R_REV                                0                      1   \n",
       "B_REV                                0                      0   \n",
       "R_HEAD                          3 of 7                 0 of 0   \n",
       "B_HEAD                          0 of 5                 0 of 0   \n",
       "R_BODY                          0 of 1                 0 of 0   \n",
       "B_BODY                          0 of 1                 0 of 0   \n",
       "R_LEG                           0 of 1                 0 of 0   \n",
       "B_LEG                           1 of 1                 0 of 0   \n",
       "R_DISTANCE                      3 of 9                 0 of 0   \n",
       "B_DISTANCE                      1 of 7                 0 of 0   \n",
       "R_CLINCH                        0 of 0                 0 of 0   \n",
       "B_CLINCH                        0 of 0                 0 of 0   \n",
       "R_GROUND                        0 of 0                 0 of 0   \n",
       "B_GROUND                        0 of 0                 0 of 0   \n",
       "win_by                      Submission             Submission   \n",
       "last_round                           1                      1   \n",
       "last_round_time                   0:52                   0:57   \n",
       "Format                   No Time Limit          No Time Limit   \n",
       "Referee           Joao Alberto Barreto   Joao Alberto Barreto   \n",
       "date                 November 12, 1993      November 12, 1993   \n",
       "location         Denver, Colorado, USA  Denver, Colorado, USA   \n",
       "Fight_type            Open Weight Bout       Open Weight Bout   \n",
       "Winner                   Jason DeLucia           Royce Gracie   \n",
       "\n",
       "                                  5139                   5140  \\\n",
       "R_fighter               Gerard Gordeau           Ken Shamrock   \n",
       "B_fighter                 Kevin Rosier          Patrick Smith   \n",
       "R_KD                                 1                      0   \n",
       "B_KD                                 0                      0   \n",
       "R_SIG_STR.                    11 of 17                 1 of 1   \n",
       "B_SIG_STR.                      0 of 3                 4 of 8   \n",
       "R_SIG_STR_pct                      64%                   100%   \n",
       "B_SIG_STR_pct                       0%                    50%   \n",
       "R_TOTAL_STR.                  11 of 17                 4 of 4   \n",
       "B_TOTAL_STR.                    0 of 3               16 of 20   \n",
       "R_TD                            0 of 0                 1 of 2   \n",
       "B_TD                            0 of 0                 0 of 0   \n",
       "R_TD_pct                            0%                    50%   \n",
       "B_TD_pct                            0%                     0%   \n",
       "R_SUB_ATT                            0                      2   \n",
       "B_SUB_ATT                            0                      0   \n",
       "R_PASS                               0                      0   \n",
       "B_PASS                               0                      0   \n",
       "R_REV                                0                      0   \n",
       "B_REV                                0                      0   \n",
       "R_HEAD                         7 of 13                 1 of 1   \n",
       "B_HEAD                          0 of 1                 1 of 4   \n",
       "R_BODY                          1 of 1                 0 of 0   \n",
       "B_BODY                          0 of 1                 1 of 1   \n",
       "R_LEG                           3 of 3                 0 of 0   \n",
       "B_LEG                           0 of 1                 2 of 3   \n",
       "R_DISTANCE                      5 of 8                 0 of 0   \n",
       "B_DISTANCE                      0 of 3                 1 of 1   \n",
       "R_CLINCH                        0 of 0                 0 of 0   \n",
       "B_CLINCH                        0 of 0                 1 of 1   \n",
       "R_GROUND                        6 of 9                 1 of 1   \n",
       "B_GROUND                        0 of 0                 2 of 6   \n",
       "win_by                          KO/TKO             Submission   \n",
       "last_round                           1                      1   \n",
       "last_round_time                   0:59                   1:49   \n",
       "Format                   No Time Limit          No Time Limit   \n",
       "Referee           Joao Alberto Barreto   Joao Alberto Barreto   \n",
       "date                 November 12, 1993      November 12, 1993   \n",
       "location         Denver, Colorado, USA  Denver, Colorado, USA   \n",
       "Fight_type            Open Weight Bout       Open Weight Bout   \n",
       "Winner                  Gerard Gordeau           Ken Shamrock   \n",
       "\n",
       "                                  5141                   5142  \\\n",
       "R_fighter                 Royce Gracie           Kevin Rosier   \n",
       "B_fighter                Art Jimmerson           Zane Frazier   \n",
       "R_KD                                 0                      2   \n",
       "B_KD                                 0                      0   \n",
       "R_SIG_STR.                      0 of 3               15 of 27   \n",
       "B_SIG_STR.                      0 of 0               12 of 28   \n",
       "R_SIG_STR_pct                       0%                    55%   \n",
       "B_SIG_STR_pct                       0%                    42%   \n",
       "R_TOTAL_STR.                    4 of 7               38 of 53   \n",
       "B_TOTAL_STR.                    0 of 0               13 of 29   \n",
       "R_TD                            1 of 1                 0 of 0   \n",
       "B_TD                            0 of 0                 0 of 0   \n",
       "R_TD_pct                          100%                     0%   \n",
       "B_TD_pct                            0%                     0%   \n",
       "R_SUB_ATT                            0                      0   \n",
       "B_SUB_ATT                            0                      0   \n",
       "R_PASS                               2                      0   \n",
       "B_PASS                               0                      0   \n",
       "R_REV                                0                      0   \n",
       "B_REV                                0                      0   \n",
       "R_HEAD                          0 of 1               12 of 23   \n",
       "B_HEAD                          0 of 0                7 of 19   \n",
       "R_BODY                          0 of 0                 3 of 4   \n",
       "B_BODY                          0 of 0                 3 of 6   \n",
       "R_LEG                           0 of 2                 0 of 0   \n",
       "B_LEG                           0 of 0                 2 of 3   \n",
       "R_DISTANCE                      0 of 3                4 of 10   \n",
       "B_DISTANCE                      0 of 0                 0 of 7   \n",
       "R_CLINCH                        0 of 0                 4 of 9   \n",
       "B_CLINCH                        0 of 0               10 of 19   \n",
       "R_GROUND                        0 of 0                 7 of 8   \n",
       "B_GROUND                        0 of 0                 2 of 2   \n",
       "win_by                      Submission                 KO/TKO   \n",
       "last_round                           1                      1   \n",
       "last_round_time                   2:18                   4:20   \n",
       "Format                   No Time Limit          No Time Limit   \n",
       "Referee           Joao Alberto Barreto   Joao Alberto Barreto   \n",
       "date                 November 12, 1993      November 12, 1993   \n",
       "location         Denver, Colorado, USA  Denver, Colorado, USA   \n",
       "Fight_type            Open Weight Bout       Open Weight Bout   \n",
       "Winner                    Royce Gracie           Kevin Rosier   \n",
       "\n",
       "                                  5143  \n",
       "R_fighter               Gerard Gordeau  \n",
       "B_fighter                   Teila Tuli  \n",
       "R_KD                                 0  \n",
       "B_KD                                 0  \n",
       "R_SIG_STR.                      3 of 5  \n",
       "B_SIG_STR.                      0 of 1  \n",
       "R_SIG_STR_pct                      60%  \n",
       "B_SIG_STR_pct                       0%  \n",
       "R_TOTAL_STR.                    3 of 5  \n",
       "B_TOTAL_STR.                    0 of 1  \n",
       "R_TD                            0 of 0  \n",
       "B_TD                            0 of 1  \n",
       "R_TD_pct                            0%  \n",
       "B_TD_pct                            0%  \n",
       "R_SUB_ATT                            0  \n",
       "B_SUB_ATT                            0  \n",
       "R_PASS                               0  \n",
       "B_PASS                               0  \n",
       "R_REV                                0  \n",
       "B_REV                                0  \n",
       "R_HEAD                          3 of 5  \n",
       "B_HEAD                          0 of 1  \n",
       "R_BODY                          0 of 0  \n",
       "B_BODY                          0 of 0  \n",
       "R_LEG                           0 of 0  \n",
       "B_LEG                           0 of 0  \n",
       "R_DISTANCE                      1 of 3  \n",
       "B_DISTANCE                      0 of 1  \n",
       "R_CLINCH                        0 of 0  \n",
       "B_CLINCH                        0 of 0  \n",
       "R_GROUND                        2 of 2  \n",
       "B_GROUND                        0 of 0  \n",
       "win_by                          KO/TKO  \n",
       "last_round                           1  \n",
       "last_round_time                   0:26  \n",
       "Format                   No Time Limit  \n",
       "Referee           Joao Alberto Barreto  \n",
       "date                 November 12, 1993  \n",
       "location         Denver, Colorado, USA  \n",
       "Fight_type            Open Weight Bout  \n",
       "Winner                  Gerard Gordeau  \n",
       "\n",
       "[41 rows x 5144 columns]"
      ]
     },
     "execution_count": 49,
     "metadata": {},
     "output_type": "execute_result"
    }
   ],
   "source": [
    "fights.T"
   ]
  },
  {
   "cell_type": "markdown",
   "metadata": {},
   "source": [
    "## 数据意义解释\n",
    "* R_, B_分别表示红角和蓝角运动员对应的数据\n",
    "* fighter: 运动员名字\n",
    "* KD: 击倒次数\n",
    "* SIG_STR: significant strikes, 有效打击， succeeded to attempted\n",
    "* SIG_STR_pct: significant strikes, percent of success\n",
    "* TOTAL_STR: total strikes, 全部打击， succeeded to attempted\n",
    "* TD: takedowns, 摔倒对方的次数， succeeded to attempted\n",
    "* TD_pct: 摔倒对方的成功率\n",
    "* SUB_ATT: submission attempt, 降服尝试次数\n",
    "* PASS： 不清楚\n",
    "* REV: 不清楚\n",
    "* HEAD: 对头部的有效打击次数， succeeded to attempted\n",
    "* BODY: 对躯干的有效打击次数, succeeded to attempted\n",
    "* LEG: 对腿部的有效打击次数, succeeded to attempted\n",
    "* DISTANCE: 不清楚\n",
    "* CLINCH: 在箍颈状态下的有效打击次数, succeeded to attempted\n",
    "* GROUND: 在地面状态下的有效打击次数, succeeded to attempted\n",
    "* win_by: 获胜方式\n",
    "* last_round: 比赛结束在第几回\n",
    "* last_round_time: 结束的那一回打了多长时间\n",
    "* Format: 比赛模式， 多少回及每回多长时间\n",
    "* Referee: 场上裁判\n",
    "* date: 比赛日期\n",
    "* location: 比赛地点\n",
    "* Fight_type: 比赛类型\n",
    "* Winner: 胜者"
   ]
  },
  {
   "cell_type": "code",
   "execution_count": 50,
   "metadata": {},
   "outputs": [
    {
     "data": {
      "text/plain": [
       "R_fighter          object\n",
       "B_fighter          object\n",
       "R_KD                int64\n",
       "B_KD                int64\n",
       "R_SIG_STR.         object\n",
       "B_SIG_STR.         object\n",
       "R_SIG_STR_pct      object\n",
       "B_SIG_STR_pct      object\n",
       "R_TOTAL_STR.       object\n",
       "B_TOTAL_STR.       object\n",
       "R_TD               object\n",
       "B_TD               object\n",
       "R_TD_pct           object\n",
       "B_TD_pct           object\n",
       "R_SUB_ATT           int64\n",
       "B_SUB_ATT           int64\n",
       "R_PASS              int64\n",
       "B_PASS              int64\n",
       "R_REV               int64\n",
       "B_REV               int64\n",
       "R_HEAD             object\n",
       "B_HEAD             object\n",
       "R_BODY             object\n",
       "B_BODY             object\n",
       "R_LEG              object\n",
       "B_LEG              object\n",
       "R_DISTANCE         object\n",
       "B_DISTANCE         object\n",
       "R_CLINCH           object\n",
       "B_CLINCH           object\n",
       "R_GROUND           object\n",
       "B_GROUND           object\n",
       "win_by             object\n",
       "last_round          int64\n",
       "last_round_time    object\n",
       "Format             object\n",
       "Referee            object\n",
       "date               object\n",
       "location           object\n",
       "Fight_type         object\n",
       "Winner             object\n",
       "dtype: object"
      ]
     },
     "execution_count": 50,
     "metadata": {},
     "output_type": "execute_result"
    }
   ],
   "source": [
    "fights.dtypes"
   ]
  },
  {
   "cell_type": "markdown",
   "metadata": {},
   "source": [
    "可以看到几乎所有的特征都是字符串型的.\n",
    " 让我们将那些succeeded to attempted 特征拆成两部分并改为数字型"
   ]
  },
  {
   "cell_type": "code",
   "execution_count": 51,
   "metadata": {},
   "outputs": [
    {
     "data": {
      "text/plain": [
       "R_SIG_STR.      0\n",
       "B_SIG_STR.      0\n",
       "R_TOTAL_STR.    0\n",
       "B_TOTAL_STR.    0\n",
       "R_TD            0\n",
       "B_TD            0\n",
       "R_HEAD          0\n",
       "B_HEAD          0\n",
       "R_BODY          0\n",
       "B_BODY          0\n",
       "R_LEG           0\n",
       "B_LEG           0\n",
       "R_DISTANCE      0\n",
       "B_DISTANCE      0\n",
       "R_CLINCH        0\n",
       "B_CLINCH        0\n",
       "R_GROUND        0\n",
       "B_GROUND        0\n",
       "dtype: int64"
      ]
     },
     "execution_count": 51,
     "metadata": {},
     "output_type": "execute_result"
    }
   ],
   "source": [
    "columns = ['R_SIG_STR.', 'B_SIG_STR.', 'R_TOTAL_STR.', 'B_TOTAL_STR.', 'R_TD', 'B_TD',\n",
    "           'R_HEAD', 'B_HEAD', 'R_BODY', 'B_BODY', 'R_LEG', 'B_LEG', 'R_DISTANCE', 'B_DISTANCE',\n",
    "           'R_CLINCH', 'B_CLINCH', 'R_GROUND', 'B_GROUND']\n",
    "fights.loc[:,columns].isnull().sum()\n",
    "    "
   ]
  },
  {
   "cell_type": "code",
   "execution_count": 52,
   "metadata": {},
   "outputs": [],
   "source": [
    "for column in columns:\n",
    "    fights[column+'_attempted'] = fights[column].apply(lambda x: int(x.split('of')[1]))\n",
    "    fights[column+'_succeeded'] = fights[column].apply(lambda x: int(x.split('of')[0]))"
   ]
  },
  {
   "cell_type": "markdown",
   "metadata": {},
   "source": [
    "看一下我们感兴趣的Winner特征"
   ]
  },
  {
   "cell_type": "code",
   "execution_count": 53,
   "metadata": {},
   "outputs": [
    {
     "data": {
      "text/plain": [
       "83"
      ]
     },
     "execution_count": 53,
     "metadata": {},
     "output_type": "execute_result"
    }
   ],
   "source": [
    "fights['Winner'].isnull().sum()"
   ]
  },
  {
   "cell_type": "markdown",
   "metadata": {},
   "source": [
    "有83场比赛没有列出获胜者，看看它们的win_by特征"
   ]
  },
  {
   "cell_type": "code",
   "execution_count": 54,
   "metadata": {},
   "outputs": [
    {
     "data": {
      "text/plain": [
       "Overturned              35\n",
       "Decision - Majority     20\n",
       "Could Not Continue      13\n",
       "Decision - Split         8\n",
       "Decision - Unanimous     5\n",
       "Other                    2\n",
       "Name: win_by, dtype: int64"
      ]
     },
     "execution_count": 54,
     "metadata": {},
     "output_type": "execute_result"
    }
   ],
   "source": [
    "fights['win_by'][fights['Winner'].isnull()].value_counts()"
   ]
  },
  {
   "cell_type": "markdown",
   "metadata": {},
   "source": [
    "看看这些win_by 特征对应的获胜者是否都未列出"
   ]
  },
  {
   "cell_type": "code",
   "execution_count": 55,
   "metadata": {},
   "outputs": [
    {
     "name": "stdout",
     "output_type": "stream",
     "text": [
      "All win_by Overturned has no winner:  True\n",
      "All win_by Decision - Majority has no winner:  False\n",
      "All win_by Decision - Unanimous has no winner:  False\n",
      "All win_by Decision - Split has no winner:  False\n",
      "All win_by Could Not Continue has no winner:  True\n",
      "All win_by Other has no winner:  True\n"
     ]
    }
   ],
   "source": [
    "for win in fights['win_by'][fights['Winner'].isnull()].unique():\n",
    "    print(f'All win_by {win} has no winner: ', fights['Winner'][fights['win_by']==win].isnull().all())"
   ]
  },
  {
   "cell_type": "markdown",
   "metadata": {},
   "source": [
    "这说明'Overturned', 'Could Not Continue', 'Other'确实意味着平局,\n",
    "而'Decision - Majority' 是多数判定胜,\n",
    "'Decision - Unanimous' 是一致判定胜,\n",
    "'Decision - Split' 是分歧判定胜,\n",
    "这三种判定胜都是有胜者的， 不知为何有些为列出胜者\n"
   ]
  },
  {
   "cell_type": "code",
   "execution_count": 56,
   "metadata": {},
   "outputs": [
    {
     "data": {
      "text/plain": [
       "83"
      ]
     },
     "execution_count": 56,
     "metadata": {},
     "output_type": "execute_result"
    }
   ],
   "source": [
    "((fights['Winner']!=fights['R_fighter']) & (fights['Winner']!=fights['B_fighter'])).sum()"
   ]
  },
  {
   "cell_type": "markdown",
   "metadata": {},
   "source": [
    "说明Winner特征中除列出红角或蓝角胜之外就是缺失值了,\n",
    "让我们把之前看到的意味着平局的补上"
   ]
  },
  {
   "cell_type": "code",
   "execution_count": 57,
   "metadata": {},
   "outputs": [],
   "source": [
    "draw = ['Overturned', 'Could Not Continue', 'Other']\n",
    "fights['Winner'][fights['win_by'].apply(lambda x: x in draw)] = 'draw'"
   ]
  },
  {
   "cell_type": "markdown",
   "metadata": {},
   "source": [
    "统计一下红角和蓝角的胜率"
   ]
  },
  {
   "cell_type": "code",
   "execution_count": 58,
   "metadata": {},
   "outputs": [
    {
     "data": {
      "image/png": "[encoded data removed]",
      "text/plain": [
       "<Figure size 576x432 with 1 Axes>"
      ]
     },
     "metadata": {
      "needs_background": "light"
     },
     "output_type": "display_data"
    }
   ],
   "source": [
    "dct = {'Won by red corner': (fights['Winner']==fights['R_fighter']).sum(),\n",
    "       'Won by blue corner': (fights['Winner']==fights['B_fighter']).sum()}\n",
    "srs = pd.Series(dct, name='Counts of winning wrt corners')\n",
    "fig, ax = plt.subplots(figsize=(8,6))\n",
    "\n",
    "ax = sns.barplot(x=srs.index, y=srs, palette=['r', 'b'])\n",
    "#ax.set_ylabel('Counts of winning by color corner')"
   ]
  },
  {
   "cell_type": "markdown",
   "metadata": {},
   "source": [
    "可以看到红角选手的胜率超过蓝角选手的两倍.\n",
    "按照惯例，被看好的选手通常被安排在红角,\n",
    "因此我们若想预测胜者的话这将构成障碍"
   ]
  },
  {
   "cell_type": "code",
   "execution_count": 59,
   "metadata": {},
   "outputs": [
    {
     "data": {
      "image/png": "[encoded data removed]",
      "text/plain": [
       "<Figure size 576x432 with 1 Axes>"
      ]
     },
     "metadata": {},
     "output_type": "display_data"
    }
   ],
   "source": [
    "sns.set(style='whitegrid')\n",
    "fig, ax = plt.subplots(figsize=(8, 6))\n",
    "ax = sns.barplot(x=fights['win_by'].value_counts().index, y=fights['win_by'].value_counts())\n",
    "_ = plt.xticks(rotation=90)"
   ]
  },
  {
   "cell_type": "markdown",
   "metadata": {},
   "source": [
    "可以看到一致判定， KO， 降服占了胜利的大多数"
   ]
  },
  {
   "cell_type": "code",
   "execution_count": 60,
   "metadata": {},
   "outputs": [],
   "source": [
    "columns = ['R_SIG_STR.', 'B_SIG_STR.', 'R_TOTAL_STR.', 'B_TOTAL_STR.', 'R_TD', 'B_TD',\n",
    "           'R_HEAD', 'B_HEAD', 'R_BODY', 'B_BODY', 'R_LEG', 'B_LEG', 'R_DISTANCE', 'B_DISTANCE',\n",
    "           'R_CLINCH', 'B_CLINCH', 'R_GROUND', 'B_GROUND']\n",
    "fights.drop(columns, axis=1, inplace=True)"
   ]
  },
  {
   "cell_type": "markdown",
   "metadata": {},
   "source": [
    "将百分比转化成分数形式"
   ]
  },
  {
   "cell_type": "code",
   "execution_count": 61,
   "metadata": {},
   "outputs": [],
   "source": [
    "columns = ['R_SIG_STR_pct', 'B_SIG_STR_pct', 'R_TD_pct', 'B_TD_pct' ]\n",
    "for column in columns:\n",
    "    fights[column] = fights[column].str.extract(r'([0-9]+)').astype('float') / 100"
   ]
  },
  {
   "cell_type": "markdown",
   "metadata": {},
   "source": [
    "现在准备构造一个显示比赛总时长的变量， 还要构造一个表示休息时长的变量.由于每回之间休息一分钟，则休息时长也表明了比赛回数.\n",
    "先看比赛形式"
   ]
  },
  {
   "cell_type": "code",
   "execution_count": 62,
   "metadata": {},
   "outputs": [
    {
     "data": {
      "text/plain": [
       "3 Rnd (5-5-5)           4502\n",
       "5 Rnd (5-5-5-5-5)        423\n",
       "1 Rnd + OT (12-3)         79\n",
       "No Time Limit             37\n",
       "3 Rnd + OT (5-5-5-5)      22\n",
       "1 Rnd (20)                20\n",
       "1 Rnd + 2OT (15-3-3)      20\n",
       "2 Rnd (5-5)               11\n",
       "1 Rnd (15)                 8\n",
       "1 Rnd (10)                 6\n",
       "1 Rnd (12)                 4\n",
       "1 Rnd + OT (30-5)          3\n",
       "1 Rnd + OT (15-3)          2\n",
       "1 Rnd (18)                 2\n",
       "1 Rnd (30)                 1\n",
       "1 Rnd + OT (31-5)          1\n",
       "1 Rnd + OT (30-3)          1\n",
       "1 Rnd + 2OT (24-3-3)       1\n",
       "1 Rnd + OT (27-3)          1\n",
       "Name: Format, dtype: int64"
      ]
     },
     "execution_count": 62,
     "metadata": {},
     "output_type": "execute_result"
    }
   ],
   "source": [
    "fights['Format'].value_counts()"
   ]
  },
  {
   "cell_type": "markdown",
   "metadata": {},
   "source": [
    "可以看到有很多种赛制，来看看2010年之后的赛制"
   ]
  },
  {
   "cell_type": "code",
   "execution_count": 63,
   "metadata": {},
   "outputs": [
    {
     "data": {
      "text/plain": [
       "3 Rnd (5-5-5)           3539\n",
       "5 Rnd (5-5-5-5-5)        336\n",
       "3 Rnd + OT (5-5-5-5)      22\n",
       "Name: Format, dtype: int64"
      ]
     },
     "execution_count": 63,
     "metadata": {},
     "output_type": "execute_result"
    }
   ],
   "source": [
    "fights['date'] = pd.to_datetime(fights['date'])\n",
    "fights['Format'][fights['date']>np.datetime64('2010-01-01')].value_counts()"
   ]
  },
  {
   "cell_type": "markdown",
   "metadata": {},
   "source": [
    "可以看到在2010年之后UFC就只有以上三种赛制了.\n",
    "先前所看到的那么多灵活的赛制都是在UFC早期时候的.\n",
    "来看看无时间限制的比赛存在于什么时代"
   ]
  },
  {
   "cell_type": "code",
   "execution_count": 64,
   "metadata": {},
   "outputs": [
    {
     "name": "stdout",
     "output_type": "stream",
     "text": [
      "No Time Limit fights started in :  1993-11-12 00:00:00\n",
      "No Time Limit fights ended in :  1994-12-16 00:00:00\n"
     ]
    }
   ],
   "source": [
    "print('No Time Limit fights started in : ', fights['date'][fights['Format']=='No Time Limit'].min())\n",
    "print('No Time Limit fights ended in : ', fights['date'][fights['Format']=='No Time Limit'].max())"
   ]
  },
  {
   "cell_type": "markdown",
   "metadata": {},
   "source": [
    "可以看到无时间限制比赛仅仅只在UFC最初成立时采用，且只持续了1年时间.\n",
    "现在我们根据赛制和最后一回的持续时间来计算比赛时长和休息时长"
   ]
  },
  {
   "cell_type": "code",
   "execution_count": 65,
   "metadata": {},
   "outputs": [
    {
     "data": {
      "text/html": [
       "<div>\n",
       "<style scoped>\n",
       "    .dataframe tbody tr th:only-of-type {\n",
       "        vertical-align: middle;\n",
       "    }\n",
       "\n",
       "    .dataframe tbody tr th {\n",
       "        vertical-align: top;\n",
       "    }\n",
       "\n",
       "    .dataframe thead th {\n",
       "        text-align: right;\n",
       "    }\n",
       "</style>\n",
       "<table border=\"1\" class=\"dataframe\">\n",
       "  <thead>\n",
       "    <tr style=\"text-align: right;\">\n",
       "      <th></th>\n",
       "      <th>last_round</th>\n",
       "      <th>last_round_time</th>\n",
       "    </tr>\n",
       "  </thead>\n",
       "  <tbody>\n",
       "    <tr>\n",
       "      <td>4958</td>\n",
       "      <td>3</td>\n",
       "      <td>3:00</td>\n",
       "    </tr>\n",
       "    <tr>\n",
       "      <td>4973</td>\n",
       "      <td>3</td>\n",
       "      <td>3:00</td>\n",
       "    </tr>\n",
       "    <tr>\n",
       "      <td>4979</td>\n",
       "      <td>1</td>\n",
       "      <td>7:40</td>\n",
       "    </tr>\n",
       "    <tr>\n",
       "      <td>4982</td>\n",
       "      <td>3</td>\n",
       "      <td>3:00</td>\n",
       "    </tr>\n",
       "    <tr>\n",
       "      <td>4985</td>\n",
       "      <td>2</td>\n",
       "      <td>1:28</td>\n",
       "    </tr>\n",
       "    <tr>\n",
       "      <td>4993</td>\n",
       "      <td>1</td>\n",
       "      <td>0:22</td>\n",
       "    </tr>\n",
       "    <tr>\n",
       "      <td>4999</td>\n",
       "      <td>3</td>\n",
       "      <td>3:00</td>\n",
       "    </tr>\n",
       "    <tr>\n",
       "      <td>5002</td>\n",
       "      <td>1</td>\n",
       "      <td>0:16</td>\n",
       "    </tr>\n",
       "    <tr>\n",
       "      <td>5006</td>\n",
       "      <td>1</td>\n",
       "      <td>8:08</td>\n",
       "    </tr>\n",
       "    <tr>\n",
       "      <td>5007</td>\n",
       "      <td>1</td>\n",
       "      <td>0:53</td>\n",
       "    </tr>\n",
       "    <tr>\n",
       "      <td>5013</td>\n",
       "      <td>3</td>\n",
       "      <td>3:00</td>\n",
       "    </tr>\n",
       "    <tr>\n",
       "      <td>5014</td>\n",
       "      <td>1</td>\n",
       "      <td>1:38</td>\n",
       "    </tr>\n",
       "    <tr>\n",
       "      <td>5022</td>\n",
       "      <td>1</td>\n",
       "      <td>0:52</td>\n",
       "    </tr>\n",
       "    <tr>\n",
       "      <td>5031</td>\n",
       "      <td>1</td>\n",
       "      <td>2:57</td>\n",
       "    </tr>\n",
       "    <tr>\n",
       "      <td>5032</td>\n",
       "      <td>1</td>\n",
       "      <td>0:43</td>\n",
       "    </tr>\n",
       "    <tr>\n",
       "      <td>5033</td>\n",
       "      <td>1</td>\n",
       "      <td>0:39</td>\n",
       "    </tr>\n",
       "    <tr>\n",
       "      <td>5038</td>\n",
       "      <td>1</td>\n",
       "      <td>1:22</td>\n",
       "    </tr>\n",
       "    <tr>\n",
       "      <td>5051</td>\n",
       "      <td>1</td>\n",
       "      <td>11:34</td>\n",
       "    </tr>\n",
       "    <tr>\n",
       "      <td>5066</td>\n",
       "      <td>1</td>\n",
       "      <td>2:14</td>\n",
       "    </tr>\n",
       "    <tr>\n",
       "      <td>5067</td>\n",
       "      <td>1</td>\n",
       "      <td>4:24</td>\n",
       "    </tr>\n",
       "  </tbody>\n",
       "</table>\n",
       "</div>"
      ],
      "text/plain": [
       "      last_round last_round_time\n",
       "4958           3            3:00\n",
       "4973           3            3:00\n",
       "4979           1            7:40\n",
       "4982           3            3:00\n",
       "4985           2            1:28\n",
       "4993           1            0:22\n",
       "4999           3            3:00\n",
       "5002           1            0:16\n",
       "5006           1            8:08\n",
       "5007           1            0:53\n",
       "5013           3            3:00\n",
       "5014           1            1:38\n",
       "5022           1            0:52\n",
       "5031           1            2:57\n",
       "5032           1            0:43\n",
       "5033           1            0:39\n",
       "5038           1            1:22\n",
       "5051           1           11:34\n",
       "5066           1            2:14\n",
       "5067           1            4:24"
      ]
     },
     "execution_count": 65,
     "metadata": {},
     "output_type": "execute_result"
    }
   ],
   "source": [
    "\n",
    "regular_format = {'3 Rnd (5-5-5)': 5, '5 Rnd (5-5-5-5-5)': 5,  '2 Rnd (5-5)': 5, \n",
    "                  '1 Rnd (20)': 20, '1 Rnd (15)': 15, '1 Rnd (10)': 10, '1 Rnd (12)': 12,\n",
    "                  '1 Rnd (18)': 18, '1 Rnd (30)': 30, '3 Rnd + OT (5-5-5-5)': 5}\n",
    "irregular_two_rounds={'1 Rnd + OT (12-3)': 12, '1 Rnd + 2OT (15-3-3)': 15, '1 Rnd + OT (30-5)': 30,\n",
    "                      '1 Rnd + OT (15-3)': 15, '1 Rnd + OT (30-3)': 30, '1 Rnd + 2OT (24-3-3)': 24,\n",
    "                      '1 Rnd + OT (27-3)': 27, '1 Rnd + OT (31-5)': 31}\n",
    "fights[['last_round', 'last_round_time']][fights['Format']=='1 Rnd + 2OT (15-3-3)']"
   ]
  },
  {
   "cell_type": "code",
   "execution_count": 66,
   "metadata": {},
   "outputs": [],
   "source": [
    "def total_fight_time(row):\n",
    "    \"\"\"\n",
    "    row: a row of the fights dataframe\n",
    "    Return: total fight corresponding to this row\n",
    "    \"\"\"\n",
    "    Format = row['Format']\n",
    "    m = (row['last_round_time'].split(':'))[0]\n",
    "    s = (row['last_round_time'].split(':'))[1]\n",
    "    total_time = 60*int(m) + int(s)\n",
    "    if Format=='No Time Limit': return total_time\n",
    "    if row['last_round']==1: return total_time\n",
    "    if Format in regular_format:\n",
    "        total_time += (row['last_round']-1)*regular_format[Format]*60\n",
    "        return total_time\n",
    "    if Format=='1 Rnd + OT (12-3)': return total_time + 12*60\n",
    "    if row['last_round']==3 and Format=='1 Rnd + 2OT (15-3-3)': return total_time + 18 * 60\n",
    "    if row['last_round']==3 and Format=='1 Rnd + 2OT (24-3-3)': return total_time + 27 * 60\n",
    "    if Format in irregular_two_rounds: return total_time+irregular_two_rounds[Format]*60\n",
    "    return np.nan\n",
    "\n",
    "fights['total_time'] = fights.apply(total_fight_time, axis=1)"
   ]
  },
  {
   "cell_type": "code",
   "execution_count": 67,
   "metadata": {},
   "outputs": [
    {
     "data": {
      "text/html": [
       "<div>\n",
       "<style scoped>\n",
       "    .dataframe tbody tr th:only-of-type {\n",
       "        vertical-align: middle;\n",
       "    }\n",
       "\n",
       "    .dataframe tbody tr th {\n",
       "        vertical-align: top;\n",
       "    }\n",
       "\n",
       "    .dataframe thead th {\n",
       "        text-align: right;\n",
       "    }\n",
       "</style>\n",
       "<table border=\"1\" class=\"dataframe\">\n",
       "  <thead>\n",
       "    <tr style=\"text-align: right;\">\n",
       "      <th></th>\n",
       "      <th>last_round</th>\n",
       "      <th>last_round_time</th>\n",
       "      <th>Format</th>\n",
       "      <th>total_time</th>\n",
       "    </tr>\n",
       "  </thead>\n",
       "  <tbody>\n",
       "    <tr>\n",
       "      <td>0</td>\n",
       "      <td>3</td>\n",
       "      <td>4:51</td>\n",
       "      <td>5 Rnd (5-5-5-5-5)</td>\n",
       "      <td>891</td>\n",
       "    </tr>\n",
       "    <tr>\n",
       "      <td>1</td>\n",
       "      <td>2</td>\n",
       "      <td>0:26</td>\n",
       "      <td>5 Rnd (5-5-5-5-5)</td>\n",
       "      <td>326</td>\n",
       "    </tr>\n",
       "    <tr>\n",
       "      <td>2</td>\n",
       "      <td>2</td>\n",
       "      <td>5:00</td>\n",
       "      <td>3 Rnd (5-5-5)</td>\n",
       "      <td>600</td>\n",
       "    </tr>\n",
       "    <tr>\n",
       "      <td>3</td>\n",
       "      <td>3</td>\n",
       "      <td>5:00</td>\n",
       "      <td>3 Rnd (5-5-5)</td>\n",
       "      <td>900</td>\n",
       "    </tr>\n",
       "  </tbody>\n",
       "</table>\n",
       "</div>"
      ],
      "text/plain": [
       "   last_round last_round_time             Format  total_time\n",
       "0           3            4:51  5 Rnd (5-5-5-5-5)         891\n",
       "1           2            0:26  5 Rnd (5-5-5-5-5)         326\n",
       "2           2            5:00      3 Rnd (5-5-5)         600\n",
       "3           3            5:00      3 Rnd (5-5-5)         900"
      ]
     },
     "execution_count": 67,
     "metadata": {},
     "output_type": "execute_result"
    }
   ],
   "source": [
    "fights.loc[:3, ['last_round', 'last_round_time', 'Format', 'total_time']]"
   ]
  },
  {
   "cell_type": "code",
   "execution_count": 68,
   "metadata": {},
   "outputs": [],
   "source": [
    "fights.rename(columns={'total_time': 'total_time(s)'}, inplace=True)"
   ]
  },
  {
   "cell_type": "code",
   "execution_count": 69,
   "metadata": {},
   "outputs": [
    {
     "data": {
      "text/html": [
       "<div>\n",
       "<style scoped>\n",
       "    .dataframe tbody tr th:only-of-type {\n",
       "        vertical-align: middle;\n",
       "    }\n",
       "\n",
       "    .dataframe tbody tr th {\n",
       "        vertical-align: top;\n",
       "    }\n",
       "\n",
       "    .dataframe thead th {\n",
       "        text-align: right;\n",
       "    }\n",
       "</style>\n",
       "<table border=\"1\" class=\"dataframe\">\n",
       "  <thead>\n",
       "    <tr style=\"text-align: right;\">\n",
       "      <th></th>\n",
       "      <th>last_round</th>\n",
       "      <th>last_round_time</th>\n",
       "      <th>Format</th>\n",
       "      <th>total_time(s)</th>\n",
       "    </tr>\n",
       "  </thead>\n",
       "  <tbody>\n",
       "    <tr>\n",
       "      <td>0</td>\n",
       "      <td>3</td>\n",
       "      <td>4:51</td>\n",
       "      <td>5 Rnd (5-5-5-5-5)</td>\n",
       "      <td>891</td>\n",
       "    </tr>\n",
       "    <tr>\n",
       "      <td>1</td>\n",
       "      <td>2</td>\n",
       "      <td>0:26</td>\n",
       "      <td>5 Rnd (5-5-5-5-5)</td>\n",
       "      <td>326</td>\n",
       "    </tr>\n",
       "    <tr>\n",
       "      <td>2</td>\n",
       "      <td>2</td>\n",
       "      <td>5:00</td>\n",
       "      <td>3 Rnd (5-5-5)</td>\n",
       "      <td>600</td>\n",
       "    </tr>\n",
       "    <tr>\n",
       "      <td>3</td>\n",
       "      <td>3</td>\n",
       "      <td>5:00</td>\n",
       "      <td>3 Rnd (5-5-5)</td>\n",
       "      <td>900</td>\n",
       "    </tr>\n",
       "  </tbody>\n",
       "</table>\n",
       "</div>"
      ],
      "text/plain": [
       "   last_round last_round_time             Format  total_time(s)\n",
       "0           3            4:51  5 Rnd (5-5-5-5-5)            891\n",
       "1           2            0:26  5 Rnd (5-5-5-5-5)            326\n",
       "2           2            5:00      3 Rnd (5-5-5)            600\n",
       "3           3            5:00      3 Rnd (5-5-5)            900"
      ]
     },
     "execution_count": 69,
     "metadata": {},
     "output_type": "execute_result"
    }
   ],
   "source": [
    "fights.loc[:3, ['last_round', 'last_round_time', 'Format', 'total_time(s)']]"
   ]
  },
  {
   "cell_type": "markdown",
   "metadata": {},
   "source": [
    "看一下比赛形式"
   ]
  },
  {
   "cell_type": "code",
   "execution_count": 70,
   "metadata": {},
   "outputs": [
    {
     "data": {
      "text/plain": [
       "0"
      ]
     },
     "execution_count": 70,
     "metadata": {},
     "output_type": "execute_result"
    }
   ],
   "source": [
    "fights['Fight_type'].isnull().sum()"
   ]
  },
  {
   "cell_type": "code",
   "execution_count": 71,
   "metadata": {},
   "outputs": [
    {
     "data": {
      "text/plain": [
       "Lightweight Bout                                         947\n",
       "Welterweight Bout                                        915\n",
       "Middleweight Bout                                        684\n",
       "Heavyweight Bout                                         453\n",
       "Light Heavyweight Bout                                   453\n",
       "                                                        ... \n",
       "Super Heavyweight Bout                                     1\n",
       "Ultimate Fighter 1 Middleweight Tournament Title Bout      1\n",
       "Ultimate Japan Heavyweight Tournament Title Bout           1\n",
       "Ultimate Fighter 10 Heavyweight Tournament Title Bout      1\n",
       "Ultimate Fighter 2 Heavyweight Tournament Title Bout       1\n",
       "Name: Fight_type, Length: 112, dtype: int64"
      ]
     },
     "execution_count": 71,
     "metadata": {},
     "output_type": "execute_result"
    }
   ],
   "source": [
    "fights['Fight_type'].value_counts()"
   ]
  },
  {
   "cell_type": "markdown",
   "metadata": {},
   "source": [
    "竟然有112 种比赛形式.\n",
    "来构造一个特征表明此次比赛是否为头衔争夺赛"
   ]
  },
  {
   "cell_type": "code",
   "execution_count": 72,
   "metadata": {},
   "outputs": [],
   "source": [
    "fights['Title'] = fights['Fight_type'].str.contains('Title', regex=False)"
   ]
  },
  {
   "cell_type": "code",
   "execution_count": 73,
   "metadata": {},
   "outputs": [
    {
     "data": {
      "text/plain": [
       "0    16\n",
       "dtype: int64"
      ]
     },
     "execution_count": 73,
     "metadata": {},
     "output_type": "execute_result"
    }
   ],
   "source": [
    "fights['Fight_type'].str.extract(r'([A-Za-z]*eight)').isnull().sum()"
   ]
  },
  {
   "cell_type": "code",
   "execution_count": 74,
   "metadata": {},
   "outputs": [
    {
     "data": {
      "text/plain": [
       "5038    Ultimate Ultimate '96 Tournament Title Bout\n",
       "5051                   UFC 10 Tournament Title Bout\n",
       "5059               UFC Superfight Championship Bout\n",
       "5066                    UFC 8 Tournament Title Bout\n",
       "5067               UFC Superfight Championship Bout\n",
       "5074    Ultimate Ultimate '95 Tournament Title Bout\n",
       "5081                    UFC 7 Tournament Title Bout\n",
       "5082               UFC Superfight Championship Bout\n",
       "5090                    UFC 6 Tournament Title Bout\n",
       "5091               UFC Superfight Championship Bout\n",
       "5098                    UFC 5 Tournament Title Bout\n",
       "5099               UFC Superfight Championship Bout\n",
       "5107                    UFC 4 Tournament Title Bout\n",
       "5115                    UFC 3 Tournament Title Bout\n",
       "5121                    UFC 2 Tournament Title Bout\n",
       "5136                    UFC 1 Tournament Title Bout\n",
       "Name: Fight_type, dtype: object"
      ]
     },
     "execution_count": 74,
     "metadata": {},
     "output_type": "execute_result"
    }
   ],
   "source": [
    "fights['Fight_type'][fights['Fight_type'].str.extract(r'([A-Za-z]*eight)').isnull().loc[:, 0]]"
   ]
  },
  {
   "cell_type": "markdown",
   "metadata": {},
   "source": [
    "在UFC早期的比赛没有分量级， 因此把这些比赛也统一归为Open Weight"
   ]
  },
  {
   "cell_type": "code",
   "execution_count": 75,
   "metadata": {},
   "outputs": [],
   "source": [
    "fights['weight_class'] = fights['Fight_type'].str.extract(r'([A-Za-z]*eight)').loc[:, 0]"
   ]
  },
  {
   "cell_type": "code",
   "execution_count": 76,
   "metadata": {},
   "outputs": [],
   "source": [
    "fights['weight_class'][fights['weight_class']=='Weight'] = 'Open Weight'\n",
    "fights['weight_class'].fillna(value='Open Weight', inplace=True)"
   ]
  },
  {
   "cell_type": "code",
   "execution_count": 77,
   "metadata": {},
   "outputs": [
    {
     "data": {
      "text/plain": [
       "R_fighter                         object\n",
       "B_fighter                         object\n",
       "R_KD                               int64\n",
       "B_KD                               int64\n",
       "R_SIG_STR_pct                    float64\n",
       "B_SIG_STR_pct                    float64\n",
       "R_TD_pct                         float64\n",
       "B_TD_pct                         float64\n",
       "R_SUB_ATT                          int64\n",
       "B_SUB_ATT                          int64\n",
       "R_PASS                             int64\n",
       "B_PASS                             int64\n",
       "R_REV                              int64\n",
       "B_REV                              int64\n",
       "win_by                            object\n",
       "last_round                         int64\n",
       "last_round_time                   object\n",
       "Format                            object\n",
       "Referee                           object\n",
       "date                      datetime64[ns]\n",
       "location                          object\n",
       "Fight_type                        object\n",
       "Winner                            object\n",
       "R_SIG_STR._attempted               int64\n",
       "R_SIG_STR._succeeded               int64\n",
       "B_SIG_STR._attempted               int64\n",
       "B_SIG_STR._succeeded               int64\n",
       "R_TOTAL_STR._attempted             int64\n",
       "R_TOTAL_STR._succeeded             int64\n",
       "B_TOTAL_STR._attempted             int64\n",
       "dtype: object"
      ]
     },
     "execution_count": 77,
     "metadata": {},
     "output_type": "execute_result"
    }
   ],
   "source": [
    "fights.dtypes[:30]\n"
   ]
  },
  {
   "cell_type": "code",
   "execution_count": 78,
   "metadata": {},
   "outputs": [
    {
     "data": {
      "text/plain": [
       "B_TOTAL_STR._succeeded     int64\n",
       "R_TD_attempted             int64\n",
       "R_TD_succeeded             int64\n",
       "B_TD_attempted             int64\n",
       "B_TD_succeeded             int64\n",
       "R_HEAD_attempted           int64\n",
       "R_HEAD_succeeded           int64\n",
       "B_HEAD_attempted           int64\n",
       "B_HEAD_succeeded           int64\n",
       "R_BODY_attempted           int64\n",
       "R_BODY_succeeded           int64\n",
       "B_BODY_attempted           int64\n",
       "B_BODY_succeeded           int64\n",
       "R_LEG_attempted            int64\n",
       "R_LEG_succeeded            int64\n",
       "B_LEG_attempted            int64\n",
       "B_LEG_succeeded            int64\n",
       "R_DISTANCE_attempted       int64\n",
       "R_DISTANCE_succeeded       int64\n",
       "B_DISTANCE_attempted       int64\n",
       "B_DISTANCE_succeeded       int64\n",
       "R_CLINCH_attempted         int64\n",
       "R_CLINCH_succeeded         int64\n",
       "B_CLINCH_attempted         int64\n",
       "B_CLINCH_succeeded         int64\n",
       "R_GROUND_attempted         int64\n",
       "R_GROUND_succeeded         int64\n",
       "B_GROUND_attempted         int64\n",
       "B_GROUND_succeeded         int64\n",
       "total_time(s)              int64\n",
       "Title                       bool\n",
       "weight_class              object\n",
       "dtype: object"
      ]
     },
     "execution_count": 78,
     "metadata": {},
     "output_type": "execute_result"
    }
   ],
   "source": [
    "fights.dtypes[30:]"
   ]
  },
  {
   "cell_type": "markdown",
   "metadata": {},
   "source": [
    "我们现在要考虑的是构造一个数据集，它包含每场比赛中选手的各项历史数据,\n",
    "之后我们将利用此数据来训练模型预测胜方,\n",
    "为了构造此数据集我们将fights中的数字型特征取选手之前比赛的平均值，对其它特征则各自处理\n"
   ]
  },
  {
   "cell_type": "code",
   "execution_count": 79,
   "metadata": {},
   "outputs": [],
   "source": [
    "# 先将fights， fighters数据保存\n",
    "fights.to_csv(base_path+'fights_preprocessed.csv', index=False)\n",
    "fighters.to_csv(base_path+'fighters_preprocessed.csv', index=False)"
   ]
  },
  {
   "cell_type": "code",
   "execution_count": 80,
   "metadata": {},
   "outputs": [],
   "source": [
    "data = pd.DataFrame(index=fights.index)"
   ]
  },
  {
   "cell_type": "code",
   "execution_count": 81,
   "metadata": {},
   "outputs": [],
   "source": [
    "columns = ['R_fighter', 'B_fighter', 'Format', 'Referee', 'date', 'location', 'Fight_type',\n",
    "           'Winner','Title', 'weight_class']\n",
    "data[columns] = fights[columns]"
   ]
  },
  {
   "cell_type": "code",
   "execution_count": 82,
   "metadata": {},
   "outputs": [],
   "source": [
    "columns_tmp = ['SIG_STR.', 'TOTAL_STR.', 'TD', 'HEAD', 'BODY', 'LEG', 'DISTANCE', 'CLINCH', 'GROUND']\n",
    "columns = []\n",
    "for column in columns_tmp:\n",
    "    columns.append(column+'_attempted')\n",
    "    columns.append(column+'_succeeded')\n",
    "columns += ['KD', 'SIG_STR_pct', 'TD_pct', 'SUB_ATT', 'PASS', 'REV']"
   ]
  },
  {
   "cell_type": "code",
   "execution_count": 83,
   "metadata": {},
   "outputs": [],
   "source": [
    "hst_columns = ['hst_'+column for column in columns]\n",
    "R_hst_columns = ['R_'+column for column in hst_columns]\n",
    "B_hst_columns = ['B_'+column for column in hst_columns]\n",
    "R_columns = ['R_'+column for column in columns]\n",
    "B_columns = ['B_'+column for column in columns]\n",
    "\n",
    "def get_hst_stat(row):\n",
    "    \"\"\"\n",
    "    row: a row in the fights DataFrame\n",
    "    Return: mean of the numerical features before the date of the row\n",
    "    \"\"\"\n",
    "    \n",
    "    # for the R_fighter\n",
    "    fighter = row['R_fighter']\n",
    "    R_hst_fights = fights[R_columns].loc[(fights['R_fighter']==fighter)&(fights['date']<row['date']), :].values\n",
    "    B_hst_fights = fights[B_columns].loc[(fights['B_fighter']==fighter)&(fights['date']<row['date']), :].values\n",
    "    try:\n",
    "        R_hst_stat = np.concatenate([R_hst_fights, B_hst_fights], axis=0).mean(axis=0)\n",
    "    except ZeroDivisionError:\n",
    "        R_hst_stat = np.empty(len(columns))\n",
    "        R_hst_stat[:] = np.nan\n",
    "    \n",
    "    # for the B_fighter\n",
    "    fighter = row['B_fighter']\n",
    "    R_hst_fights = fights[R_columns].loc[(fights['R_fighter']==fighter)&(fights['date']<row['date']), :].values\n",
    "    B_hst_fights = fights[B_columns].loc[(fights['B_fighter']==fighter)&(fights['date']<row['date']), :].values\n",
    "    try:\n",
    "        B_hst_stat = np.concatenate([R_hst_fights, B_hst_fights], axis=0).mean(axis=0)\n",
    "    except ZeroDivisionError:\n",
    "        B_hst_stat = np.empty(len(columns))\n",
    "        B_hst_stat[:] = np.nan\n",
    "    \n",
    "    # concatenate them\n",
    "    return np.concatenate([R_hst_stat, B_hst_stat])"
   ]
  },
  {
   "cell_type": "code",
   "execution_count": 84,
   "metadata": {},
   "outputs": [],
   "source": [
    "hst_stat = fights.apply(get_hst_stat, axis=1)"
   ]
  },
  {
   "cell_type": "code",
   "execution_count": 85,
   "metadata": {},
   "outputs": [],
   "source": [
    "tmp = pd.DataFrame(index=fights.index, columns=(R_hst_columns+B_hst_columns))\n",
    "for index, row in fights.iterrows():\n",
    "    tmp.loc[index, :] = get_hst_stat(row)"
   ]
  },
  {
   "cell_type": "code",
   "execution_count": 86,
   "metadata": {},
   "outputs": [],
   "source": [
    "data = pd.concat([data, tmp], axis=1)"
   ]
  },
  {
   "cell_type": "code",
   "execution_count": 87,
   "metadata": {},
   "outputs": [
    {
     "data": {
      "text/plain": [
       "R_fighter                        0\n",
       "B_fighter                        0\n",
       "Format                           0\n",
       "Referee                         23\n",
       "date                             0\n",
       "location                         0\n",
       "Fight_type                       0\n",
       "Winner                          33\n",
       "Title                            0\n",
       "weight_class                     0\n",
       "R_hst_SIG_STR._attempted       673\n",
       "R_hst_SIG_STR._succeeded       673\n",
       "R_hst_TOTAL_STR._attempted     673\n",
       "R_hst_TOTAL_STR._succeeded     673\n",
       "R_hst_TD_attempted             673\n",
       "R_hst_TD_succeeded             673\n",
       "R_hst_HEAD_attempted           673\n",
       "R_hst_HEAD_succeeded           673\n",
       "R_hst_BODY_attempted           673\n",
       "R_hst_BODY_succeeded           673\n",
       "R_hst_LEG_attempted            673\n",
       "R_hst_LEG_succeeded            673\n",
       "R_hst_DISTANCE_attempted       673\n",
       "R_hst_DISTANCE_succeeded       673\n",
       "R_hst_CLINCH_attempted         673\n",
       "R_hst_CLINCH_succeeded         673\n",
       "R_hst_GROUND_attempted         673\n",
       "R_hst_GROUND_succeeded         673\n",
       "R_hst_KD                       673\n",
       "R_hst_SIG_STR_pct              673\n",
       "R_hst_TD_pct                   673\n",
       "R_hst_SUB_ATT                  673\n",
       "R_hst_PASS                     673\n",
       "R_hst_REV                      673\n",
       "B_hst_SIG_STR._attempted      1291\n",
       "B_hst_SIG_STR._succeeded      1291\n",
       "B_hst_TOTAL_STR._attempted    1291\n",
       "B_hst_TOTAL_STR._succeeded    1291\n",
       "B_hst_TD_attempted            1291\n",
       "B_hst_TD_succeeded            1291\n",
       "B_hst_HEAD_attempted          1291\n",
       "B_hst_HEAD_succeeded          1291\n",
       "B_hst_BODY_attempted          1291\n",
       "B_hst_BODY_succeeded          1291\n",
       "B_hst_LEG_attempted           1291\n",
       "B_hst_LEG_succeeded           1291\n",
       "B_hst_DISTANCE_attempted      1291\n",
       "B_hst_DISTANCE_succeeded      1291\n",
       "B_hst_CLINCH_attempted        1291\n",
       "B_hst_CLINCH_succeeded        1291\n",
       "B_hst_GROUND_attempted        1291\n",
       "B_hst_GROUND_succeeded        1291\n",
       "B_hst_KD                      1291\n",
       "B_hst_SIG_STR_pct             1291\n",
       "B_hst_TD_pct                  1291\n",
       "B_hst_SUB_ATT                 1291\n",
       "B_hst_PASS                    1291\n",
       "B_hst_REV                     1291\n",
       "dtype: int64"
      ]
     },
     "execution_count": 87,
     "metadata": {},
     "output_type": "execute_result"
    }
   ],
   "source": [
    "data.isnull().sum(axis=0)"
   ]
  },
  {
   "cell_type": "markdown",
   "metadata": {},
   "source": [
    "如果data中的某行对应的数值型数据为空，说明次场比赛相应的运动员是首次参加UFC比赛.\n",
    "由上面的关于空缺值的观察，我们发现蓝角选手更多是首次参赛.\n",
    "这与我们之前观察到的，组织方倾向于将更看好的选手安排在红角.\n",
    "说明组织方通常更看好多次参赛选手"
   ]
  },
  {
   "cell_type": "code",
   "execution_count": 88,
   "metadata": {},
   "outputs": [],
   "source": [
    "# 给data加上选手的个人信息\n",
    "data = data.merge(fighters, how='left', left_on='R_fighter', right_on='fighter_name')"
   ]
  },
  {
   "cell_type": "code",
   "execution_count": 89,
   "metadata": {},
   "outputs": [],
   "source": [
    "columns= {column: 'R_'+column for column in ['Stance', 'DOB', 'Height(cm)', 'Weight(kg)', 'Reach(cm)']}\n",
    "data.rename(columns=columns, inplace=True)"
   ]
  },
  {
   "cell_type": "code",
   "execution_count": 90,
   "metadata": {},
   "outputs": [],
   "source": [
    "data = data.merge(fighters, how='left', left_on='B_fighter', right_on='fighter_name')\n",
    "columns= {column: 'B_'+column for column in ['Stance', 'DOB', 'Height(cm)', 'Weight(kg)', 'Reach(cm)']}\n",
    "data.rename(columns=columns, inplace=True)"
   ]
  },
  {
   "cell_type": "code",
   "execution_count": 91,
   "metadata": {},
   "outputs": [],
   "source": [
    "data['R_age'] = data['date'] - data['R_DOB']\n",
    "data['B_age'] = data['date'] - data['B_DOB']"
   ]
  },
  {
   "cell_type": "code",
   "execution_count": 92,
   "metadata": {},
   "outputs": [
    {
     "data": {
      "text/plain": [
       "Index(['R_fighter', 'B_fighter', 'Format', 'Referee', 'date', 'location',\n",
       "       'Fight_type', 'Winner', 'Title', 'weight_class',\n",
       "       'R_hst_SIG_STR._attempted', 'R_hst_SIG_STR._succeeded',\n",
       "       'R_hst_TOTAL_STR._attempted', 'R_hst_TOTAL_STR._succeeded',\n",
       "       'R_hst_TD_attempted', 'R_hst_TD_succeeded', 'R_hst_HEAD_attempted',\n",
       "       'R_hst_HEAD_succeeded', 'R_hst_BODY_attempted', 'R_hst_BODY_succeeded',\n",
       "       'R_hst_LEG_attempted', 'R_hst_LEG_succeeded',\n",
       "       'R_hst_DISTANCE_attempted', 'R_hst_DISTANCE_succeeded',\n",
       "       'R_hst_CLINCH_attempted', 'R_hst_CLINCH_succeeded',\n",
       "       'R_hst_GROUND_attempted', 'R_hst_GROUND_succeeded', 'R_hst_KD',\n",
       "       'R_hst_SIG_STR_pct', 'R_hst_TD_pct', 'R_hst_SUB_ATT', 'R_hst_PASS',\n",
       "       'R_hst_REV', 'B_hst_SIG_STR._attempted', 'B_hst_SIG_STR._succeeded',\n",
       "       'B_hst_TOTAL_STR._attempted', 'B_hst_TOTAL_STR._succeeded',\n",
       "       'B_hst_TD_attempted', 'B_hst_TD_succeeded', 'B_hst_HEAD_attempted',\n",
       "       'B_hst_HEAD_succeeded', 'B_hst_BODY_attempted', 'B_hst_BODY_succeeded',\n",
       "       'B_hst_LEG_attempted', 'B_hst_LEG_succeeded',\n",
       "       'B_hst_DISTANCE_attempted', 'B_hst_DISTANCE_succeeded',\n",
       "       'B_hst_CLINCH_attempted', 'B_hst_CLINCH_succeeded',\n",
       "       'B_hst_GROUND_attempted', 'B_hst_GROUND_succeeded', 'B_hst_KD',\n",
       "       'B_hst_SIG_STR_pct', 'B_hst_TD_pct', 'B_hst_SUB_ATT', 'B_hst_PASS',\n",
       "       'B_hst_REV', 'fighter_name_x', 'R_Stance', 'R_DOB', 'R_Height(cm)',\n",
       "       'R_Weight(kg)', 'R_Reach(cm)', 'fighter_name_y', 'B_Stance', 'B_DOB',\n",
       "       'B_Height(cm)', 'B_Weight(kg)', 'B_Reach(cm)', 'R_age', 'B_age'],\n",
       "      dtype='object')"
      ]
     },
     "execution_count": 92,
     "metadata": {},
     "output_type": "execute_result"
    }
   ],
   "source": [
    "data.columns"
   ]
  },
  {
   "cell_type": "code",
   "execution_count": 93,
   "metadata": {},
   "outputs": [],
   "source": [
    "data.drop(['fighter_name_x', 'fighter_name_y'], axis=1, inplace=True)"
   ]
  },
  {
   "cell_type": "markdown",
   "metadata": {},
   "source": [
    "计算选手的往昔参赛场数， 胜场数， Title 参赛场数， Title 胜场数"
   ]
  },
  {
   "cell_type": "code",
   "execution_count": 94,
   "metadata": {},
   "outputs": [],
   "source": [
    "\n",
    "def get_experience(row, corner='R_fighter'):\n",
    "    \"\"\"\n",
    "    row: a row of data DataFrame\n",
    "    returns：no. of participating UFC\n",
    "    \"\"\"\n",
    "    total_experience = (fights['R_fighter'][fights['date']<row['date']]==row[corner]).sum()\n",
    "    total_experience += (fights['B_fighter'][fights['date']<row['date']]==row[corner]).sum()\n",
    "    return total_experience\n",
    "\n",
    "def get_winning_experience(row, corner='R_fighter'):\n",
    "    \"\"\"\n",
    "    row: a row of data DataFrame\n",
    "    returns: no. of wining an UFC bout in the past\n",
    "    \"\"\"\n",
    "    return (fights['Winner'][fights['date']<row['date']]==row[corner]).sum()\n",
    "\n",
    "def get_title_experience(row, corner='R_fighter'):\n",
    "    \"\"\"\n",
    "    row: a row of data DataFrame\n",
    "    returns: no. of participating UFC title bout in the past\n",
    "    \"\"\"\n",
    "    total_title_experience = (fights['R_fighter'][(fights['date']<row['date'])&\n",
    "                                                  (fights['Title'])]==row[corner]).sum()\n",
    "    total_title_experience += (fights['B_fighter'][(fights['date']<row['date'])&\n",
    "                                                  (fights['Title'])]==row[corner]).sum()\n",
    "    return total_title_experience\n",
    "\n",
    "def get_title_winning_experience(row, corner='R_fighter'):\n",
    "    \"\"\"\n",
    "    row: a row of the data DataFrame\n",
    "    returns: no. of winning an UFC title bout in the past\n",
    "    \"\"\"\n",
    "    return (fights['Winner'][(fights['date']<row['date'])&(fights['Title'])]==row[corner]).sum()"
   ]
  },
  {
   "cell_type": "code",
   "execution_count": 95,
   "metadata": {},
   "outputs": [],
   "source": [
    "data['R_experience'] = data.apply(get_experience, axis=1)"
   ]
  },
  {
   "cell_type": "code",
   "execution_count": 96,
   "metadata": {},
   "outputs": [],
   "source": [
    "data['B_experience'] = data.apply(lambda x: get_experience(x,corner='B_fighter'), axis=1)"
   ]
  },
  {
   "cell_type": "code",
   "execution_count": 97,
   "metadata": {},
   "outputs": [],
   "source": [
    "data['R_winning_experience'] = data.apply(get_winning_experience, axis=1)"
   ]
  },
  {
   "cell_type": "code",
   "execution_count": 98,
   "metadata": {},
   "outputs": [],
   "source": [
    "data['B_winning_experience'] = data.apply(lambda x: get_winning_experience(x, corner='B_fighter'), axis=1)"
   ]
  },
  {
   "cell_type": "code",
   "execution_count": 99,
   "metadata": {},
   "outputs": [],
   "source": [
    "data['R_title_experience'] = data.apply(get_title_experience, axis=1)"
   ]
  },
  {
   "cell_type": "code",
   "execution_count": 100,
   "metadata": {},
   "outputs": [],
   "source": [
    "data['B_title_experience'] = data.apply(lambda x: get_title_experience(x, corner='B_fighter'), axis=1)"
   ]
  },
  {
   "cell_type": "code",
   "execution_count": 101,
   "metadata": {},
   "outputs": [],
   "source": [
    "data['R_title_winning_experience'] = data.apply(get_title_winning_experience, axis=1)"
   ]
  },
  {
   "cell_type": "code",
   "execution_count": 102,
   "metadata": {},
   "outputs": [],
   "source": [
    "data['B_title_winning_experience'] = data.apply(lambda x: get_title_winning_experience(x, corner='B_fighter'), axis=1)"
   ]
  },
  {
   "cell_type": "code",
   "execution_count": 103,
   "metadata": {},
   "outputs": [
    {
     "data": {
      "text/plain": [
       "(5144, 78)"
      ]
     },
     "execution_count": 103,
     "metadata": {},
     "output_type": "execute_result"
    }
   ],
   "source": [
    "data.shape"
   ]
  },
  {
   "cell_type": "code",
   "execution_count": 104,
   "metadata": {},
   "outputs": [
    {
     "data": {
      "text/plain": [
       "R_fighter                             object\n",
       "B_fighter                             object\n",
       "Format                                object\n",
       "Referee                               object\n",
       "date                          datetime64[ns]\n",
       "location                              object\n",
       "Fight_type                            object\n",
       "Winner                                object\n",
       "Title                                   bool\n",
       "weight_class                          object\n",
       "R_hst_SIG_STR._attempted              object\n",
       "R_hst_SIG_STR._succeeded              object\n",
       "R_hst_TOTAL_STR._attempted            object\n",
       "R_hst_TOTAL_STR._succeeded            object\n",
       "R_hst_TD_attempted                    object\n",
       "R_hst_TD_succeeded                    object\n",
       "R_hst_HEAD_attempted                  object\n",
       "R_hst_HEAD_succeeded                  object\n",
       "R_hst_BODY_attempted                  object\n",
       "R_hst_BODY_succeeded                  object\n",
       "R_hst_LEG_attempted                   object\n",
       "R_hst_LEG_succeeded                   object\n",
       "R_hst_DISTANCE_attempted              object\n",
       "R_hst_DISTANCE_succeeded              object\n",
       "R_hst_CLINCH_attempted                object\n",
       "R_hst_CLINCH_succeeded                object\n",
       "R_hst_GROUND_attempted                object\n",
       "R_hst_GROUND_succeeded                object\n",
       "R_hst_KD                              object\n",
       "R_hst_SIG_STR_pct                     object\n",
       "dtype: object"
      ]
     },
     "execution_count": 104,
     "metadata": {},
     "output_type": "execute_result"
    }
   ],
   "source": [
    "data.dtypes[:30]"
   ]
  },
  {
   "cell_type": "code",
   "execution_count": 258,
   "metadata": {},
   "outputs": [
    {
     "data": {
      "text/plain": [
       "R_hst_TD_pct                           object\n",
       "R_hst_SUB_ATT                          object\n",
       "R_hst_PASS                             object\n",
       "R_hst_REV                              object\n",
       "B_hst_SIG_STR._attempted               object\n",
       "B_hst_SIG_STR._succeeded               object\n",
       "B_hst_TOTAL_STR._attempted             object\n",
       "B_hst_TOTAL_STR._succeeded             object\n",
       "B_hst_TD_attempted                     object\n",
       "B_hst_TD_succeeded                     object\n",
       "B_hst_HEAD_attempted                   object\n",
       "B_hst_HEAD_succeeded                   object\n",
       "B_hst_BODY_attempted                   object\n",
       "B_hst_BODY_succeeded                   object\n",
       "B_hst_LEG_attempted                    object\n",
       "B_hst_LEG_succeeded                    object\n",
       "B_hst_DISTANCE_attempted               object\n",
       "B_hst_DISTANCE_succeeded               object\n",
       "B_hst_CLINCH_attempted                 object\n",
       "B_hst_CLINCH_succeeded                 object\n",
       "B_hst_GROUND_attempted                 object\n",
       "B_hst_GROUND_succeeded                 object\n",
       "B_hst_KD                               object\n",
       "B_hst_SIG_STR_pct                      object\n",
       "B_hst_TD_pct                           object\n",
       "B_hst_SUB_ATT                          object\n",
       "B_hst_PASS                             object\n",
       "B_hst_REV                              object\n",
       "R_Stance                               object\n",
       "R_DOB                          datetime64[ns]\n",
       "R_Height(cm)                          float64\n",
       "R_Weight(kg)                          float64\n",
       "R_Reach(cm)                           float64\n",
       "B_Stance                               object\n",
       "B_DOB                          datetime64[ns]\n",
       "B_Height(cm)                          float64\n",
       "B_Weight(kg)                          float64\n",
       "B_Reach(cm)                           float64\n",
       "R_age                         timedelta64[ns]\n",
       "B_age                         timedelta64[ns]\n",
       "R_experience                            int64\n",
       "B_experience                            int64\n",
       "R_winning_experience                    int64\n",
       "B_winning_experience                    int64\n",
       "R_title_experience                      int64\n",
       "B_title_experience                      int64\n",
       "R_title_winning_experience              int64\n",
       "B_title_winning_experience              int64\n",
       "dtype: object"
      ]
     },
     "execution_count": 258,
     "metadata": {},
     "output_type": "execute_result"
    }
   ],
   "source": [
    "data.dtypes[30:]"
   ]
  },
  {
   "cell_type": "markdown",
   "metadata": {},
   "source": [
    "将选手的历史数据转化成float型"
   ]
  },
  {
   "cell_type": "code",
   "execution_count": 105,
   "metadata": {},
   "outputs": [],
   "source": [
    "columns = ['SIG_STR.', 'TOTAL_STR.', 'TD', 'HEAD', 'BODY', 'LEG', 'DISTANCE', 'CLINCH', 'GROUND']\n",
    "for col in columns:\n",
    "    data['R_hst_'+col+'_attempted'] = data['R_hst_'+col+'_attempted'].astype('float')\n",
    "    data['R_hst_'+col+'_succeeded'] = data['R_hst_'+col+'_succeeded'].astype('float')\n",
    "    \n",
    "    data['B_hst_'+col+'_attempted'] = data['B_hst_'+col+'_attempted'].astype('float')\n",
    "    data['B_hst_'+col+'_succeeded'] = data['B_hst_'+col+'_succeeded'].astype('float')"
   ]
  },
  {
   "cell_type": "code",
   "execution_count": 106,
   "metadata": {},
   "outputs": [],
   "source": [
    "for col in ['KD', 'SIG_STR_pct', 'TD_pct', 'SUB_ATT', 'PASS', 'REV']:\n",
    "    data['R_hst_'+col] = data['R_hst_'+col].astype('float')\n",
    "    data['B_hst_'+col] = data['B_hst_'+col].astype('float')"
   ]
  },
  {
   "cell_type": "markdown",
   "metadata": {},
   "source": [
    "看一下选手的K.O.及降服成功率"
   ]
  },
  {
   "cell_type": "code",
   "execution_count": 107,
   "metadata": {},
   "outputs": [
    {
     "data": {
      "text/plain": [
       "array(['KO/TKO', \"TKO - Doctor's Stoppage\", 'Decision - Unanimous',\n",
       "       'Submission', 'Decision - Split', 'Decision - Majority', 'DQ',\n",
       "       'Overturned', 'Could Not Continue', 'Other'], dtype=object)"
      ]
     },
     "execution_count": 107,
     "metadata": {},
     "output_type": "execute_result"
    }
   ],
   "source": [
    "fights['win_by'].unique()"
   ]
  },
  {
   "cell_type": "code",
   "execution_count": 108,
   "metadata": {},
   "outputs": [],
   "source": [
    "def get_KO(row, corner='R_fighter'):\n",
    "    \"\"\"\n",
    "    row: a row of the data DataFrame\n",
    "    returns: no. of K.O. in the past\n",
    "    \"\"\"\n",
    "    result = (fights['win_by'][(fights['date']<row['date'])&(fights['Winner']==row[corner])]=='KO/TKO').sum()\n",
    "    result += (fights['win_by'][(fights['date']<row['date'])&(fights['Winner']==row[corner])]==\"TKO - Doctor's Stoppage\").sum()\n",
    "    return result\n",
    "\n",
    "def get_sub(row, corner='R_fighter'):\n",
    "    \"\"\"\n",
    "    row: a row of the data DataFrame\n",
    "    returns: no. of submission in the past\n",
    "    \"\"\"\n",
    "    return (fights['win_by'][(fights['date']<row['date'])&(fights['Winner']==row[corner])]=='Submission').sum()"
   ]
  },
  {
   "cell_type": "code",
   "execution_count": 109,
   "metadata": {},
   "outputs": [],
   "source": [
    "data['R_KO'] = data.apply(get_KO, axis=1)\n",
    "data['B_KO'] = data.apply(lambda x: get_KO(x, corner='B_fighter'), axis=1)"
   ]
  },
  {
   "cell_type": "code",
   "execution_count": 110,
   "metadata": {},
   "outputs": [],
   "source": [
    "data['R_sub'] = data.apply(get_sub, axis=1)\n",
    "data['B_sub'] = data.apply(lambda x: get_sub(x, corner='B_fighter'), axis=1)"
   ]
  },
  {
   "cell_type": "code",
   "execution_count": 111,
   "metadata": {},
   "outputs": [],
   "source": [
    "for col in ['KO', 'sub']:\n",
    "    data['R_'+col] = data['R_'+col] / data['R_experience']\n",
    "    data['B_'+col] = data['B_'+col] / data['B_experience']"
   ]
  },
  {
   "cell_type": "code",
   "execution_count": 112,
   "metadata": {},
   "outputs": [],
   "source": [
    "data['R_winning'] = data['R_winning_experience'] / data['R_experience']\n",
    "data['B_winning'] = data['B_winning_experience'] / data['B_experience']\n",
    "data['R_title_winning'] = data['R_title_winning_experience'] / data['R_title_experience']\n",
    "data['B_title_winning'] = data['B_title_winning_experience'] / data['B_title_experience']"
   ]
  },
  {
   "cell_type": "code",
   "execution_count": 113,
   "metadata": {},
   "outputs": [],
   "source": [
    "columns = ['R_DOB', 'B_DOB', 'R_winning_experience', 'B_winning_experience', 'R_title_winning_experience',\n",
    "           'B_title_winning_experience']\n",
    "data.drop(columns, axis=1, inplace=True)"
   ]
  },
  {
   "cell_type": "code",
   "execution_count": 114,
   "metadata": {},
   "outputs": [
    {
     "data": {
      "text/plain": [
       "(5144, 80)"
      ]
     },
     "execution_count": 114,
     "metadata": {},
     "output_type": "execute_result"
    }
   ],
   "source": [
    "data.shape"
   ]
  },
  {
   "cell_type": "code",
   "execution_count": 115,
   "metadata": {},
   "outputs": [],
   "source": [
    "data['R_age'] = (data['R_age'].dt.days/365).round(0)\n",
    "data['B_age'] = (data['B_age'].dt.days/365).round(0)"
   ]
  },
  {
   "cell_type": "code",
   "execution_count": 116,
   "metadata": {},
   "outputs": [],
   "source": [
    "# 保存数据\n",
    "data.to_csv('./ufc_data/data_preprocessed.csv', index=False)"
   ]
  },
  {
   "cell_type": "code",
   "execution_count": null,
   "metadata": {},
   "outputs": [],
   "source": []
  }
 ],
 "metadata": {
  "kernelspec": {
   "display_name": "Python 3",
   "language": "python",
   "name": "python3"
  },
  "language_info": {
   "codemirror_mode": {
    "name": "ipython",
    "version": 3
   },
   "file_extension": ".py",
   "mimetype": "text/x-python",
   "name": "python",
   "nbconvert_exporter": "python",
   "pygments_lexer": "ipython3",
   "version": "3.7.4"
  }
 },
 "nbformat": 4,
 "nbformat_minor": 2
}
